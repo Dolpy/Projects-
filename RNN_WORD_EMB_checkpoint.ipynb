{
 "cells": [
  {
   "cell_type": "markdown",
   "metadata": {},
   "source": [
    "### Introduction\n",
    "\n",
    "\n",
    "**Probelm Statement:** Make a classifier which takes in a job description and gives the department name for it.\n",
    "*   Use a neural network model\n",
    "*   Make use of a pre-trained Word Embeddings (example: Word2Vec, GloVe, etc.)\n",
    "*   Calculate the accuracy on a test set (data not used to train the model)\n",
    "\n",
    "**Problem Solving Approach:** \n",
    "_Provide a brief description of steps you followed for solving this problem_\n",
    "1. Check dataset and visulize labels to find balanced or unbalanced\n",
    "2. If Unbalanced, do upsampling and downsampling accordingly\n",
    "3. Fit model with linear classifiers and estimate accuracy and confusion matrix\n",
    "4. Fit model with Neural Network classifiers and estimate accuracy and confusion matrix\n",
    "5. Use Pre-trained word embedding and fit model with Neural Network classifiers and estimate accuracy and confusion matrix"
   ]
  },
  {
   "cell_type": "markdown",
   "metadata": {},
   "source": [
    "## Importing Libraries"
   ]
  },
  {
   "cell_type": "code",
   "execution_count": 162,
   "metadata": {},
   "outputs": [],
   "source": [
    "import pandas as pd\n",
    "import numpy as np\n",
    "import json\n",
    "import os\n",
    "import matplotlib.pyplot as plt\n",
    "import warnings\n",
    "warnings.filterwarnings('ignore')"
   ]
  },
  {
   "cell_type": "code",
   "execution_count": 163,
   "metadata": {},
   "outputs": [],
   "source": [
    "import sklearn\n",
    "from sklearn.feature_extraction.text import CountVectorizer\n",
    "from sklearn.model_selection import train_test_split\n",
    "from sklearn.linear_model import LogisticRegression\n",
    "from sklearn.metrics import confusion_matrix\n",
    "from sklearn.tree import DecisionTreeClassifier\n",
    "from sklearn.ensemble import RandomForestClassifier\n",
    "from sklearn.metrics import confusion_matrix, precision_score, recall_score, roc_auc_score, accuracy_score\n",
    "import seaborn as sn"
   ]
  },
  {
   "cell_type": "markdown",
   "metadata": {},
   "source": [
    "## Defining hot encoding and decoding Functions"
   ]
  },
  {
   "cell_type": "code",
   "execution_count": 164,
   "metadata": {},
   "outputs": [],
   "source": [
    "def hotencode(arr):\n",
    "    a = np.zeros([len(arr), np.max(arr)])\n",
    "    for i in range(len(arr)):\n",
    "        col = arr[i]\n",
    "        a[i,col-1] = 1\n",
    "    return a\n",
    "    # invert first example\n",
    "    # inverted = label_encoder.inverse_transform([argmax(onehot_encoded[0, :])])\n",
    "    # print(inverted)\n",
    "\n",
    "def hotdecode(arr):\n",
    "    a = []\n",
    "    for i in range(len(arr)):\n",
    "        a.append(np.argmax(arr[i,:])+1)\n",
    "    return np.asarray(a)"
   ]
  },
  {
   "cell_type": "markdown",
   "metadata": {},
   "source": [
    "## Part 1 - Loading dataset and Text Preprocessing\n",
    "_Include all text preprocesing steps like processing of json,csv files & data cleaning in this part._"
   ]
  },
  {
   "cell_type": "code",
   "execution_count": 4,
   "metadata": {},
   "outputs": [],
   "source": [
    "path_json = 'C:/Users/Dolpy/Desktop/mohitatbb-machine-learning-assessment-2ef59f0cd1ce/data/docs'\n",
    "path_csv = 'C:/Users/Dolpy/Desktop/mohitatbb-machine-learning-assessment-2ef59f0cd1ce/data'\n",
    "file_csv = os.path.join(path_csv, 'document_departments.csv')"
   ]
  },
  {
   "cell_type": "code",
   "execution_count": 5,
   "metadata": {},
   "outputs": [
    {
     "data": {
      "text/html": [
       "<div>\n",
       "<style scoped>\n",
       "    .dataframe tbody tr th:only-of-type {\n",
       "        vertical-align: middle;\n",
       "    }\n",
       "\n",
       "    .dataframe tbody tr th {\n",
       "        vertical-align: top;\n",
       "    }\n",
       "\n",
       "    .dataframe thead th {\n",
       "        text-align: right;\n",
       "    }\n",
       "</style>\n",
       "<table border=\"1\" class=\"dataframe\">\n",
       "  <thead>\n",
       "    <tr style=\"text-align: right;\">\n",
       "      <th></th>\n",
       "      <th>Document ID</th>\n",
       "      <th>Department</th>\n",
       "    </tr>\n",
       "  </thead>\n",
       "  <tbody>\n",
       "    <tr>\n",
       "      <th>0</th>\n",
       "      <td>8196431</td>\n",
       "      <td>Customer service</td>\n",
       "    </tr>\n",
       "    <tr>\n",
       "      <th>1</th>\n",
       "      <td>8278123</td>\n",
       "      <td>Digital Marketing</td>\n",
       "    </tr>\n",
       "    <tr>\n",
       "      <th>2</th>\n",
       "      <td>8331625</td>\n",
       "      <td>Sales</td>\n",
       "    </tr>\n",
       "    <tr>\n",
       "      <th>3</th>\n",
       "      <td>8331003</td>\n",
       "      <td>Back office ticketing</td>\n",
       "    </tr>\n",
       "    <tr>\n",
       "      <th>4</th>\n",
       "      <td>8277939</td>\n",
       "      <td>Digital Marketing</td>\n",
       "    </tr>\n",
       "  </tbody>\n",
       "</table>\n",
       "</div>"
      ],
      "text/plain": [
       "   Document ID             Department\n",
       "0      8196431       Customer service\n",
       "1      8278123      Digital Marketing\n",
       "2      8331625                  Sales\n",
       "3      8331003  Back office ticketing\n",
       "4      8277939      Digital Marketing"
      ]
     },
     "execution_count": 5,
     "metadata": {},
     "output_type": "execute_result"
    }
   ],
   "source": [
    "# Loading csv files\n",
    "data = pd.read_csv(file_csv)\n",
    "data.head(5)"
   ]
  },
  {
   "cell_type": "code",
   "execution_count": 6,
   "metadata": {},
   "outputs": [
    {
     "name": "stdout",
     "output_type": "stream",
     "text": [
      "Total number of dataset available 1162\n"
     ]
    }
   ],
   "source": [
    "# Total number of datapoints\n",
    "print('Total number of dataset available %d'%(len(data)))"
   ]
  },
  {
   "cell_type": "code",
   "execution_count": 7,
   "metadata": {
    "scrolled": true
   },
   "outputs": [
    {
     "data": {
      "text/plain": [
       "{'company_info': {'Company Description': \"cmts is engaged in the data entry outsourcing and supply of skilled/semi skilled &amp; unskilled Manpower across the industry spectrum. Our pool of manpower ranges from professionals such as Sales &amp; technical professionals in different categories, IT professionals, aviation sector, technical profiles, engineers, non-technical in-house professionals, administrative profiles, Accountant, HR, Back office, Data Entry Operator etc. Our organization's goal is total clients satisfaction through quality and personalized delivery of each and every service. We therefore exist to cater the need of these prospecting employers/companies since our inception in 2008.\",\n",
       "  'Email': 'hr@cmts.in',\n",
       "  'Company Name': 'CMTS (Core Management &amp; Technical Services)',\n",
       "  'Telephone': '9631857963'},\n",
       " 'api_data': {'job_location': ['Ludhiana'],\n",
       "  'jd_id': '6600981',\n",
       "  'job_keywords': ['Ticketing Executive for Tavel Company at Saanewal Ludhiana'],\n",
       "  'job_industry': 'Travel / Tourism',\n",
       "  'company_name': 'CMTS (Core Management & Technical Services)',\n",
       "  'job_experience': '1 to 3 Yrs',\n",
       "  'job_title': 'Ticketing Executive for Tavel Company at Saanewal Ludhiana'},\n",
       " 'other_details': {'Other Skills:': ['Ticketing Executive for Tavel Company at Saanewal Ludhiana'],\n",
       "  'Industry:': ['Travel / Tourism'],\n",
       "  'Department:': ['Reservation / Ticketing', 'Tour / Travel Management']},\n",
       " 'topbox_information': {'salary_information': 'Rs 1.0  - 2.0 Lakh/Yr'},\n",
       " 'jd_information': {'description': 'We Have urgent poitions for Ticketing Executive at Tour and Travel pacakge Company at saanewal Location.Post- Ticketing Executive,Travel ExecutiveExp-1-3 Yerassalary- 9-15kLocation- Saanewaal, G.T Road.Ludhiana.Thse Candiadtes will staying near by 10-15 Km they can apply on prior. Doraha, saanewaal, Dholewal,Khanna, or near by candidates can apply.Job Detail-* All Ticketing Activities: such as Issuance, Re-issuance, Revalidation,Cancellation and Refunds* knowledge of GDS (Amadeus/Sabre )- Not necessary for domastic* Documenting all activities* Follow ups with customers and clients for existing reservations.Intrested can call to Aditya kumar on 8527750087 or mail your cv on hr@cmts.in or cmts.hr@gmail.com&nbsp;male and Female both will consider for the post.'},\n",
       " '_id': '6600981'}"
      ]
     },
     "execution_count": 7,
     "metadata": {},
     "output_type": "execute_result"
    }
   ],
   "source": [
    "# Loading Json object for readability\n",
    "obj = json.load(open(os.path.join(path_json, str(data['Document ID'][78]) + '.json')))\n",
    "obj"
   ]
  },
  {
   "cell_type": "markdown",
   "metadata": {},
   "source": [
    "Useful Attributes\n",
    "1. job_keywords\n",
    "2. job_title\n",
    "3. Skills\n",
    "4. Department"
   ]
  },
  {
   "cell_type": "code",
   "execution_count": 8,
   "metadata": {
    "scrolled": true
   },
   "outputs": [
    {
     "name": "stdout",
     "output_type": "stream",
     "text": [
      "Number of attributes: 6\n"
     ]
    }
   ],
   "source": [
    "# Number of Major attributes in JSON object\n",
    "print('Number of attributes: %d'%(len(obj.keys())))"
   ]
  },
  {
   "cell_type": "markdown",
   "metadata": {},
   "source": [
    "### Part II: Exploratoty Data Analysis\n",
    "\n",
    "_Include EDA steps like finding distribution of Departments in this part, you may also use plots for EDA._"
   ]
  },
  {
   "cell_type": "markdown",
   "metadata": {},
   "source": [
    "### Counting datapoints from different department"
   ]
  },
  {
   "cell_type": "code",
   "execution_count": 9,
   "metadata": {},
   "outputs": [],
   "source": [
    "data['count'] = data['Department'].map(lambda c_row: 1 if isinstance(c_row, str) else 0)\n",
    "unique_img_ids = data.groupby('Department').agg({'count': 'sum'}).reset_index()"
   ]
  },
  {
   "cell_type": "code",
   "execution_count": 10,
   "metadata": {},
   "outputs": [
    {
     "data": {
      "text/html": [
       "<div>\n",
       "<style scoped>\n",
       "    .dataframe tbody tr th:only-of-type {\n",
       "        vertical-align: middle;\n",
       "    }\n",
       "\n",
       "    .dataframe tbody tr th {\n",
       "        vertical-align: top;\n",
       "    }\n",
       "\n",
       "    .dataframe thead th {\n",
       "        text-align: right;\n",
       "    }\n",
       "</style>\n",
       "<table border=\"1\" class=\"dataframe\">\n",
       "  <thead>\n",
       "    <tr style=\"text-align: right;\">\n",
       "      <th></th>\n",
       "      <th>Department</th>\n",
       "      <th>count</th>\n",
       "    </tr>\n",
       "  </thead>\n",
       "  <tbody>\n",
       "    <tr>\n",
       "      <th>0</th>\n",
       "      <td>Administration</td>\n",
       "      <td>38</td>\n",
       "    </tr>\n",
       "    <tr>\n",
       "      <th>1</th>\n",
       "      <td>Airline Ground Operations</td>\n",
       "      <td>4</td>\n",
       "    </tr>\n",
       "    <tr>\n",
       "      <th>2</th>\n",
       "      <td>Analytics</td>\n",
       "      <td>9</td>\n",
       "    </tr>\n",
       "    <tr>\n",
       "      <th>3</th>\n",
       "      <td>Back office ticketing</td>\n",
       "      <td>18</td>\n",
       "    </tr>\n",
       "    <tr>\n",
       "      <th>4</th>\n",
       "      <td>Content</td>\n",
       "      <td>6</td>\n",
       "    </tr>\n",
       "  </tbody>\n",
       "</table>\n",
       "</div>"
      ],
      "text/plain": [
       "                  Department  count\n",
       "0             Administration     38\n",
       "1  Airline Ground Operations      4\n",
       "2                  Analytics      9\n",
       "3      Back office ticketing     18\n",
       "4                    Content      6"
      ]
     },
     "execution_count": 10,
     "metadata": {},
     "output_type": "execute_result"
    }
   ],
   "source": [
    "unique_img_ids.head()"
   ]
  },
  {
   "cell_type": "markdown",
   "metadata": {},
   "source": [
    "### Creating a Hashmap of Departments and labels"
   ]
  },
  {
   "cell_type": "code",
   "execution_count": 11,
   "metadata": {},
   "outputs": [
    {
     "data": {
      "text/plain": [
       "array(['Administration', 'Airline Ground Operations', 'Analytics',\n",
       "       'Back office ticketing', 'Content', 'Customer service',\n",
       "       'Data entry', 'Digital Marketing',\n",
       "       'Engineering Design Construction', 'Finance', 'Flight Operations',\n",
       "       'IT', 'Learning and Development ', 'Logistics', 'Maintenance',\n",
       "       'Management Consulting', 'Marine Deck ', 'Marine Engineering ',\n",
       "       'Marine Service Steward ', 'Marketing', 'Operations', 'Presales ',\n",
       "       'Procurement', 'Public Relations ', 'QA ', 'Recruitment',\n",
       "       'Safety ', 'Sales', 'Technology', 'Ticketing'], dtype=object)"
      ]
     },
     "execution_count": 11,
     "metadata": {},
     "output_type": "execute_result"
    }
   ],
   "source": [
    "unique_img_ids['Department'].values"
   ]
  },
  {
   "cell_type": "code",
   "execution_count": 12,
   "metadata": {},
   "outputs": [],
   "source": [
    "depart_map = {}\n",
    "for i in range(len(unique_img_ids)):\n",
    "    depart_map[unique_img_ids['Department'][i]] = i+1"
   ]
  },
  {
   "cell_type": "code",
   "execution_count": 13,
   "metadata": {},
   "outputs": [
    {
     "name": "stdout",
     "output_type": "stream",
     "text": [
      "Number of departments: 30\n"
     ]
    }
   ],
   "source": [
    "# Number of different departments\n",
    "print('Number of departments: %d'%(len(unique_img_ids)))"
   ]
  },
  {
   "cell_type": "code",
   "execution_count": 187,
   "metadata": {},
   "outputs": [
    {
     "data": {
      "image/png": "[encoded data removed]",
      "text/plain": [
       "<Figure size 432x288 with 1 Axes>"
      ]
     },
     "metadata": {},
     "output_type": "display_data"
    }
   ],
   "source": [
    "# Plotting number of jobs in different departments\n",
    "y_pos = np.arange(len(unique_img_ids))\n",
    "objects = unique_img_ids['Department']\n",
    "performance = unique_img_ids['count']\n",
    "plt.bar(y_pos, performance, align='center', alpha=0.5)\n",
    "plt.xticks(y_pos, objects)\n",
    "plt.ylabel('Jobs')\n",
    "plt.title('Departments/Jobs')\n",
    "plt.xticks(rotation=90)\n",
    "\n",
    "plt.show()"
   ]
  },
  {
   "cell_type": "markdown",
   "metadata": {},
   "source": [
    "### Selecting important atttributes\n",
    "1. Department\n",
    "2. JobTitle\n",
    "3. JobKeywords"
   ]
  },
  {
   "cell_type": "code",
   "execution_count": 15,
   "metadata": {},
   "outputs": [],
   "source": [
    "n = len(data)\n",
    "label = []\n",
    "keyword = []"
   ]
  },
  {
   "cell_type": "code",
   "execution_count": 16,
   "metadata": {},
   "outputs": [],
   "source": [
    "# Creating a new dataframe for selected attributes only\n",
    "for i in range(n):\n",
    "    obj = json.load(open(os.path.join(path_json, str(data['Document ID'][i]) + '.json')))\n",
    "    department = obj['other_details']['Department:']\n",
    "    title = obj['api_data']['job_title']\n",
    "    obj = obj['api_data']['job_keywords']\n",
    "    \n",
    "    st = [st.strip(' ') for st in obj]\n",
    "    dp = [dp.strip(' ') for dp in department]\n",
    "    tt = [tt.strip(' ') for tt in title]\n",
    "    st = st + dp + tt\n",
    "    \n",
    "    str_join = \",\".join(st)\n",
    "    label.append(depart_map[data['Department'][i]])\n",
    "    keyword.append(str_join)"
   ]
  },
  {
   "cell_type": "markdown",
   "metadata": {},
   "source": [
    "### Creating a new dataframe from selected attributes and their respective labels"
   ]
  },
  {
   "cell_type": "code",
   "execution_count": 17,
   "metadata": {},
   "outputs": [
    {
     "data": {
      "text/html": [
       "<div>\n",
       "<style scoped>\n",
       "    .dataframe tbody tr th:only-of-type {\n",
       "        vertical-align: middle;\n",
       "    }\n",
       "\n",
       "    .dataframe tbody tr th {\n",
       "        vertical-align: top;\n",
       "    }\n",
       "\n",
       "    .dataframe thead th {\n",
       "        text-align: right;\n",
       "    }\n",
       "</style>\n",
       "<table border=\"1\" class=\"dataframe\">\n",
       "  <thead>\n",
       "    <tr style=\"text-align: right;\">\n",
       "      <th></th>\n",
       "      <th>label</th>\n",
       "    </tr>\n",
       "  </thead>\n",
       "  <tbody>\n",
       "    <tr>\n",
       "      <th>0</th>\n",
       "      <td>6</td>\n",
       "    </tr>\n",
       "    <tr>\n",
       "      <th>1</th>\n",
       "      <td>8</td>\n",
       "    </tr>\n",
       "    <tr>\n",
       "      <th>2</th>\n",
       "      <td>28</td>\n",
       "    </tr>\n",
       "    <tr>\n",
       "      <th>3</th>\n",
       "      <td>4</td>\n",
       "    </tr>\n",
       "    <tr>\n",
       "      <th>4</th>\n",
       "      <td>8</td>\n",
       "    </tr>\n",
       "  </tbody>\n",
       "</table>\n",
       "</div>"
      ],
      "text/plain": [
       "   label\n",
       "0      6\n",
       "1      8\n",
       "2     28\n",
       "3      4\n",
       "4      8"
      ]
     },
     "execution_count": 17,
     "metadata": {},
     "output_type": "execute_result"
    }
   ],
   "source": [
    "df = []\n",
    "df = pd.DataFrame(label, columns=['label'])\n",
    "df.head()"
   ]
  },
  {
   "cell_type": "code",
   "execution_count": 18,
   "metadata": {},
   "outputs": [
    {
     "data": {
      "text/html": [
       "<div>\n",
       "<style scoped>\n",
       "    .dataframe tbody tr th:only-of-type {\n",
       "        vertical-align: middle;\n",
       "    }\n",
       "\n",
       "    .dataframe tbody tr th {\n",
       "        vertical-align: top;\n",
       "    }\n",
       "\n",
       "    .dataframe thead th {\n",
       "        text-align: right;\n",
       "    }\n",
       "</style>\n",
       "<table border=\"1\" class=\"dataframe\">\n",
       "  <thead>\n",
       "    <tr style=\"text-align: right;\">\n",
       "      <th></th>\n",
       "      <th>keyword</th>\n",
       "    </tr>\n",
       "  </thead>\n",
       "  <tbody>\n",
       "    <tr>\n",
       "      <th>0</th>\n",
       "      <td>telesales,telemarketing,communication,call cen...</td>\n",
       "    </tr>\n",
       "    <tr>\n",
       "      <th>1</th>\n",
       "      <td>internet media,facebook marketing,online adver...</td>\n",
       "    </tr>\n",
       "    <tr>\n",
       "      <th>2</th>\n",
       "      <td>immigration,canada pr,australia pr,client serv...</td>\n",
       "    </tr>\n",
       "    <tr>\n",
       "      <th>3</th>\n",
       "      <td>documentation,,Back Office Operations,F,r,e,s,...</td>\n",
       "    </tr>\n",
       "    <tr>\n",
       "      <th>4</th>\n",
       "      <td>internet media,facebook marketing,online adver...</td>\n",
       "    </tr>\n",
       "  </tbody>\n",
       "</table>\n",
       "</div>"
      ],
      "text/plain": [
       "                                             keyword\n",
       "0  telesales,telemarketing,communication,call cen...\n",
       "1  internet media,facebook marketing,online adver...\n",
       "2  immigration,canada pr,australia pr,client serv...\n",
       "3  documentation,,Back Office Operations,F,r,e,s,...\n",
       "4  internet media,facebook marketing,online adver..."
      ]
     },
     "execution_count": 18,
     "metadata": {},
     "output_type": "execute_result"
    }
   ],
   "source": [
    "df2 = pd.DataFrame(keyword, columns=['keyword'])\n",
    "df2.head()"
   ]
  },
  {
   "cell_type": "code",
   "execution_count": 19,
   "metadata": {},
   "outputs": [
    {
     "data": {
      "text/html": [
       "<div>\n",
       "<style scoped>\n",
       "    .dataframe tbody tr th:only-of-type {\n",
       "        vertical-align: middle;\n",
       "    }\n",
       "\n",
       "    .dataframe tbody tr th {\n",
       "        vertical-align: top;\n",
       "    }\n",
       "\n",
       "    .dataframe thead th {\n",
       "        text-align: right;\n",
       "    }\n",
       "</style>\n",
       "<table border=\"1\" class=\"dataframe\">\n",
       "  <thead>\n",
       "    <tr style=\"text-align: right;\">\n",
       "      <th></th>\n",
       "      <th>label</th>\n",
       "      <th>keyword</th>\n",
       "    </tr>\n",
       "  </thead>\n",
       "  <tbody>\n",
       "    <tr>\n",
       "      <th>0</th>\n",
       "      <td>6</td>\n",
       "      <td>telesales,telemarketing,communication,call cen...</td>\n",
       "    </tr>\n",
       "    <tr>\n",
       "      <th>1</th>\n",
       "      <td>8</td>\n",
       "      <td>internet media,facebook marketing,online adver...</td>\n",
       "    </tr>\n",
       "    <tr>\n",
       "      <th>2</th>\n",
       "      <td>28</td>\n",
       "      <td>immigration,canada pr,australia pr,client serv...</td>\n",
       "    </tr>\n",
       "    <tr>\n",
       "      <th>3</th>\n",
       "      <td>4</td>\n",
       "      <td>documentation,,Back Office Operations,F,r,e,s,...</td>\n",
       "    </tr>\n",
       "    <tr>\n",
       "      <th>4</th>\n",
       "      <td>8</td>\n",
       "      <td>internet media,facebook marketing,online adver...</td>\n",
       "    </tr>\n",
       "  </tbody>\n",
       "</table>\n",
       "</div>"
      ],
      "text/plain": [
       "   label                                            keyword\n",
       "0      6  telesales,telemarketing,communication,call cen...\n",
       "1      8  internet media,facebook marketing,online adver...\n",
       "2     28  immigration,canada pr,australia pr,client serv...\n",
       "3      4  documentation,,Back Office Operations,F,r,e,s,...\n",
       "4      8  internet media,facebook marketing,online adver..."
      ]
     },
     "execution_count": 19,
     "metadata": {},
     "output_type": "execute_result"
    }
   ],
   "source": [
    "df = df.merge(df2, left_index=True, right_index=True)\n",
    "df.head()"
   ]
  },
  {
   "cell_type": "code",
   "execution_count": 178,
   "metadata": {},
   "outputs": [],
   "source": [
    "x = df['keyword'].values\n",
    "y = df['label'].values"
   ]
  },
  {
   "cell_type": "markdown",
   "metadata": {},
   "source": [
    "### Data Imbalance Situation\n",
    "Here we can clearly see that data classes given are not uniform. This is dealt in the later section"
   ]
  },
  {
   "cell_type": "code",
   "execution_count": 177,
   "metadata": {
    "scrolled": true
   },
   "outputs": [
    {
     "data": {
      "text/plain": [
       "30    347\n",
       "28    270\n",
       "8     151\n",
       "6      69\n",
       "20     50\n",
       "10     42\n",
       "21     41\n",
       "1      38\n",
       "15     28\n",
       "12     20\n",
       "4      18\n",
       "16     12\n",
       "29     10\n",
       "22     10\n",
       "3       9\n",
       "9       7\n",
       "26      6\n",
       "5       6\n",
       "24      5\n",
       "2       4\n",
       "18      3\n",
       "14      3\n",
       "17      2\n",
       "19      2\n",
       "25      2\n",
       "7       2\n",
       "11      2\n",
       "13      1\n",
       "23      1\n",
       "27      1\n",
       "Name: label, dtype: int64"
      ]
     },
     "execution_count": 177,
     "metadata": {},
     "output_type": "execute_result"
    }
   ],
   "source": [
    "df['label'].value_counts()"
   ]
  },
  {
   "cell_type": "markdown",
   "metadata": {},
   "source": [
    "### Part III: Modelling & Evaluation\n",
    "\n",
    "_Include all model prepration & evaluation steps in this part._"
   ]
  },
  {
   "cell_type": "markdown",
   "metadata": {},
   "source": [
    "Spliting dataset into Training and Testing"
   ]
  },
  {
   "cell_type": "code",
   "execution_count": 22,
   "metadata": {},
   "outputs": [],
   "source": [
    "x_train, x_test, y_train, y_test = train_test_split(x, y, test_size=0.25)"
   ]
  },
  {
   "cell_type": "code",
   "execution_count": 23,
   "metadata": {},
   "outputs": [
    {
     "name": "stdout",
     "output_type": "stream",
     "text": [
      "size of x_train (871,), x_test (291,), y_train (871,), y_test (291,)\n"
     ]
    }
   ],
   "source": [
    "print('size of x_train %s, x_test %s, y_train %s, y_test %s'%(x_train.shape, x_test.shape, y_train.shape, y_test.shape))"
   ]
  },
  {
   "cell_type": "markdown",
   "metadata": {},
   "source": [
    "### Vectorization of words\n",
    "Generating feature vector"
   ]
  },
  {
   "cell_type": "code",
   "execution_count": 24,
   "metadata": {},
   "outputs": [
    {
     "data": {
      "text/plain": [
       "<871x1321 sparse matrix of type '<class 'numpy.int64'>'\n",
       "\twith 9306 stored elements in Compressed Sparse Row format>"
      ]
     },
     "execution_count": 24,
     "metadata": {},
     "output_type": "execute_result"
    }
   ],
   "source": [
    "vectorizer = CountVectorizer()\n",
    "vectorizer.fit(x_train)\n",
    "\n",
    "X_train = vectorizer.transform(x_train)\n",
    "X_test  = vectorizer.transform(x_test)\n",
    "X_train"
   ]
  },
  {
   "cell_type": "markdown",
   "metadata": {},
   "source": [
    "Hotencoding of labels"
   ]
  },
  {
   "cell_type": "code",
   "execution_count": 25,
   "metadata": {},
   "outputs": [],
   "source": [
    "y_train_hot = hotencode(y_train)\n",
    "y_test_hot = hotencode(y_test)"
   ]
  },
  {
   "cell_type": "markdown",
   "metadata": {},
   "source": [
    "## Number of Classifiers"
   ]
  },
  {
   "cell_type": "markdown",
   "metadata": {},
   "source": [
    "### 1. Logistic Regression"
   ]
  },
  {
   "cell_type": "code",
   "execution_count": 26,
   "metadata": {},
   "outputs": [
    {
     "name": "stdout",
     "output_type": "stream",
     "text": [
      "Accuracy of Logistic classifier: 90.72\n"
     ]
    }
   ],
   "source": [
    "logistic = LogisticRegression(class_weight='balanced')\n",
    "logistic.fit(X_train, y_train)\n",
    "score = logistic.score(X_test, y_test)\n",
    "\n",
    "print(\"Accuracy of Logistic classifier:\", round(score,4)*100)"
   ]
  },
  {
   "cell_type": "markdown",
   "metadata": {},
   "source": [
    "### 2. Stochastic Gradient Descent"
   ]
  },
  {
   "cell_type": "code",
   "execution_count": 27,
   "metadata": {},
   "outputs": [
    {
     "name": "stdout",
     "output_type": "stream",
     "text": [
      "Accuracy of sgd classifier: 87.63\n"
     ]
    }
   ],
   "source": [
    "sgd = sklearn.linear_model.SGDClassifier(class_weight='balanced')\n",
    "sgd.fit(X_train, y_train)\n",
    "score = sgd.score(X_test, y_test)\n",
    "\n",
    "print(\"Accuracy of sgd classifier:\", round(score,4)*100)"
   ]
  },
  {
   "cell_type": "markdown",
   "metadata": {},
   "source": [
    "### 3. Decision Tree"
   ]
  },
  {
   "cell_type": "code",
   "execution_count": 28,
   "metadata": {},
   "outputs": [
    {
     "name": "stdout",
     "output_type": "stream",
     "text": [
      "Accuracy of tree classifier: 85.22\n"
     ]
    }
   ],
   "source": [
    "tree = DecisionTreeClassifier(class_weight='balanced')\n",
    "tree.fit(X_train, y_train)\n",
    "score = tree.score(X_test, y_test)\n",
    "\n",
    "print(\"Accuracy of tree classifier:\", round(score,4)*100)"
   ]
  },
  {
   "cell_type": "markdown",
   "metadata": {},
   "source": [
    "### 4. Random Forest"
   ]
  },
  {
   "cell_type": "code",
   "execution_count": 29,
   "metadata": {},
   "outputs": [
    {
     "name": "stdout",
     "output_type": "stream",
     "text": [
      "Accuracy of forest classifier: 88.32\n"
     ]
    }
   ],
   "source": [
    "forest = RandomForestClassifier(class_weight='balanced')\n",
    "forest.fit(X_train, y_train)\n",
    "score = forest.score(X_test, y_test)\n",
    "\n",
    "print(\"Accuracy of forest classifier:\", round(score,4)*100)"
   ]
  },
  {
   "cell_type": "code",
   "execution_count": 30,
   "metadata": {
    "scrolled": true
   },
   "outputs": [],
   "source": [
    "y_pred = forest.predict(X_test)\n",
    "cm=confusion_matrix(y_test, y_pred)"
   ]
  },
  {
   "cell_type": "code",
   "execution_count": 31,
   "metadata": {},
   "outputs": [
    {
     "data": {
      "text/plain": [
       "<matplotlib.axes._subplots.AxesSubplot at 0x1a533eae320>"
      ]
     },
     "execution_count": 31,
     "metadata": {},
     "output_type": "execute_result"
    },
    {
     "data": {
      "image/png": "[encoded data removed]",
      "text/plain": [
       "<Figure size 720x504 with 2 Axes>"
      ]
     },
     "metadata": {},
     "output_type": "display_data"
    }
   ],
   "source": [
    "index = columns = [i for i in range(len(cm))]\n",
    "df_cm = pd.DataFrame(cm, index = index,\n",
    "                  columns = columns)\n",
    "plt.figure(figsize = (10,7))\n",
    "sn.heatmap(df_cm, annot=True)"
   ]
  },
  {
   "cell_type": "markdown",
   "metadata": {},
   "source": [
    "Here I can see a lot of miss classification of classes specifically for those which have very low class count. So we need to do data balancing first"
   ]
  },
  {
   "cell_type": "markdown",
   "metadata": {},
   "source": [
    "### 5. Simple Neural Network"
   ]
  },
  {
   "cell_type": "code",
   "execution_count": 32,
   "metadata": {},
   "outputs": [
    {
     "name": "stderr",
     "output_type": "stream",
     "text": [
      "Using TensorFlow backend.\n"
     ]
    }
   ],
   "source": [
    "from keras.models import Sequential\n",
    "from keras import layers\n",
    "\n",
    "input_dim = X_train.shape[1]  # Number of features\n",
    "\n",
    "model = Sequential()\n",
    "model.add(layers.Dense(10, input_dim=input_dim, activation='relu'))\n",
    "model.add(layers.Dense(30, activation='sigmoid'))"
   ]
  },
  {
   "cell_type": "code",
   "execution_count": 33,
   "metadata": {
    "scrolled": true
   },
   "outputs": [
    {
     "name": "stdout",
     "output_type": "stream",
     "text": [
      "_________________________________________________________________\n",
      "Layer (type)                 Output Shape              Param #   \n",
      "=================================================================\n",
      "dense_1 (Dense)              (None, 10)                13220     \n",
      "_________________________________________________________________\n",
      "dense_2 (Dense)              (None, 30)                330       \n",
      "=================================================================\n",
      "Total params: 13,550\n",
      "Trainable params: 13,550\n",
      "Non-trainable params: 0\n",
      "_________________________________________________________________\n"
     ]
    }
   ],
   "source": [
    "model.compile(loss='categorical_crossentropy', \n",
    "                   optimizer='adam', \n",
    "                   metrics=['accuracy'])\n",
    "model.summary()"
   ]
  },
  {
   "cell_type": "code",
   "execution_count": 155,
   "metadata": {},
   "outputs": [
    {
     "name": "stdout",
     "output_type": "stream",
     "text": [
      "Train on 375 samples, validate on 125 samples\n",
      "Epoch 1/100\n",
      "375/375 [==============================] - 0s 484us/step - loss: 0.0075 - acc: 1.0000 - val_loss: 0.0232 - val_acc: 0.9920\n",
      "Epoch 2/100\n",
      "375/375 [==============================] - 0s 441us/step - loss: 0.0076 - acc: 1.0000 - val_loss: 0.0196 - val_acc: 0.9920\n",
      "Epoch 3/100\n",
      "375/375 [==============================] - 0s 415us/step - loss: 0.0066 - acc: 1.0000 - val_loss: 0.0192 - val_acc: 0.9920\n",
      "Epoch 4/100\n",
      "375/375 [==============================] - 0s 423us/step - loss: 0.0062 - acc: 1.0000 - val_loss: 0.0167 - val_acc: 0.9920\n",
      "Epoch 5/100\n",
      "375/375 [==============================] - 0s 415us/step - loss: 0.0063 - acc: 1.0000 - val_loss: 0.0219 - val_acc: 0.9920\n",
      "Epoch 6/100\n",
      "375/375 [==============================] - 0s 423us/step - loss: 0.0064 - acc: 1.0000 - val_loss: 0.0181 - val_acc: 0.9920\n",
      "Epoch 7/100\n",
      "375/375 [==============================] - 0s 471us/step - loss: 0.0056 - acc: 1.0000 - val_loss: 0.0185 - val_acc: 0.9920\n",
      "Epoch 8/100\n",
      "375/375 [==============================] - 0s 441us/step - loss: 0.0055 - acc: 1.0000 - val_loss: 0.0214 - val_acc: 0.9920\n",
      "Epoch 9/100\n",
      "375/375 [==============================] - 0s 452us/step - loss: 0.0050 - acc: 1.0000 - val_loss: 0.0182 - val_acc: 0.9920\n",
      "Epoch 10/100\n",
      "375/375 [==============================] - 0s 441us/step - loss: 0.0046 - acc: 1.0000 - val_loss: 0.0170 - val_acc: 0.9920\n",
      "Epoch 11/100\n",
      "375/375 [==============================] - 0s 439us/step - loss: 0.0045 - acc: 1.0000 - val_loss: 0.0207 - val_acc: 0.9920\n",
      "Epoch 12/100\n",
      "375/375 [==============================] - 0s 668us/step - loss: 0.0041 - acc: 1.0000 - val_loss: 0.0161 - val_acc: 0.9920\n",
      "Epoch 13/100\n",
      "375/375 [==============================] - 0s 410us/step - loss: 0.0041 - acc: 1.0000 - val_loss: 0.0192 - val_acc: 0.9920\n",
      "Epoch 14/100\n",
      "375/375 [==============================] - 0s 386us/step - loss: 0.0038 - acc: 1.0000 - val_loss: 0.0163 - val_acc: 0.9920\n",
      "Epoch 15/100\n",
      "375/375 [==============================] - 0s 367us/step - loss: 0.0037 - acc: 1.0000 - val_loss: 0.0173 - val_acc: 0.9920\n",
      "Epoch 16/100\n",
      "375/375 [==============================] - 0s 388us/step - loss: 0.0035 - acc: 1.0000 - val_loss: 0.0148 - val_acc: 0.9920\n",
      "Epoch 17/100\n",
      "375/375 [==============================] - 0s 386us/step - loss: 0.0032 - acc: 1.0000 - val_loss: 0.0161 - val_acc: 0.9920\n",
      "Epoch 18/100\n",
      "375/375 [==============================] - 0s 367us/step - loss: 0.0032 - acc: 1.0000 - val_loss: 0.0140 - val_acc: 0.9920\n",
      "Epoch 19/100\n",
      "375/375 [==============================] - 0s 402us/step - loss: 0.0031 - acc: 1.0000 - val_loss: 0.0155 - val_acc: 0.9920\n",
      "Epoch 20/100\n",
      "375/375 [==============================] - 0s 489us/step - loss: 0.0027 - acc: 1.0000 - val_loss: 0.0131 - val_acc: 0.9920\n",
      "Epoch 21/100\n",
      "375/375 [==============================] - 0s 415us/step - loss: 0.0029 - acc: 1.0000 - val_loss: 0.0151 - val_acc: 0.9920\n",
      "Epoch 22/100\n",
      "375/375 [==============================] - 0s 439us/step - loss: 0.0026 - acc: 1.0000 - val_loss: 0.0135 - val_acc: 0.9920\n",
      "Epoch 23/100\n",
      "375/375 [==============================] - 0s 428us/step - loss: 0.0025 - acc: 1.0000 - val_loss: 0.0139 - val_acc: 0.9920\n",
      "Epoch 24/100\n",
      "375/375 [==============================] - 0s 428us/step - loss: 0.0024 - acc: 1.0000 - val_loss: 0.0137 - val_acc: 0.9920\n",
      "Epoch 25/100\n",
      "375/375 [==============================] - 0s 511us/step - loss: 0.0023 - acc: 1.0000 - val_loss: 0.0145 - val_acc: 0.9920\n",
      "Epoch 26/100\n",
      "375/375 [==============================] - 0s 481us/step - loss: 0.0021 - acc: 1.0000 - val_loss: 0.0136 - val_acc: 0.9920\n",
      "Epoch 27/100\n",
      "375/375 [==============================] - 0s 420us/step - loss: 0.0021 - acc: 1.0000 - val_loss: 0.0145 - val_acc: 0.9920\n",
      "Epoch 28/100\n",
      "375/375 [==============================] - 0s 415us/step - loss: 0.0020 - acc: 1.0000 - val_loss: 0.0136 - val_acc: 0.9920\n",
      "Epoch 29/100\n",
      "375/375 [==============================] - 0s 426us/step - loss: 0.0020 - acc: 1.0000 - val_loss: 0.0151 - val_acc: 0.9920\n",
      "Epoch 30/100\n",
      "375/375 [==============================] - 0s 452us/step - loss: 0.0018 - acc: 1.0000 - val_loss: 0.0127 - val_acc: 0.9920\n",
      "Epoch 31/100\n",
      "375/375 [==============================] - 0s 473us/step - loss: 0.0018 - acc: 1.0000 - val_loss: 0.0143 - val_acc: 0.9920\n",
      "Epoch 32/100\n",
      "375/375 [==============================] - 0s 500us/step - loss: 0.0017 - acc: 1.0000 - val_loss: 0.0134 - val_acc: 0.9920\n",
      "Epoch 33/100\n",
      "375/375 [==============================] - 0s 439us/step - loss: 0.0017 - acc: 1.0000 - val_loss: 0.0142 - val_acc: 0.9920\n",
      "Epoch 34/100\n",
      "375/375 [==============================] - 0s 441us/step - loss: 0.0016 - acc: 1.0000 - val_loss: 0.0126 - val_acc: 0.9920\n",
      "Epoch 35/100\n",
      "375/375 [==============================] - 0s 452us/step - loss: 0.0015 - acc: 1.0000 - val_loss: 0.0126 - val_acc: 0.9920\n",
      "Epoch 36/100\n",
      "375/375 [==============================] - 0s 460us/step - loss: 0.0014 - acc: 1.0000 - val_loss: 0.0123 - val_acc: 0.9920\n",
      "Epoch 37/100\n",
      "375/375 [==============================] - 0s 535us/step - loss: 0.0014 - acc: 1.0000 - val_loss: 0.0117 - val_acc: 0.9920\n",
      "Epoch 38/100\n",
      "375/375 [==============================] - 0s 535us/step - loss: 0.0013 - acc: 1.0000 - val_loss: 0.0124 - val_acc: 0.9920\n",
      "Epoch 39/100\n",
      "375/375 [==============================] - 0s 537us/step - loss: 0.0013 - acc: 1.0000 - val_loss: 0.0142 - val_acc: 0.9920\n",
      "Epoch 40/100\n",
      "375/375 [==============================] - 0s 452us/step - loss: 0.0013 - acc: 1.0000 - val_loss: 0.0121 - val_acc: 0.9920\n",
      "Epoch 41/100\n",
      "375/375 [==============================] - 0s 465us/step - loss: 0.0012 - acc: 1.0000 - val_loss: 0.0114 - val_acc: 0.9920\n",
      "Epoch 42/100\n",
      "375/375 [==============================] - 0s 463us/step - loss: 0.0011 - acc: 1.0000 - val_loss: 0.0128 - val_acc: 0.9920\n",
      "Epoch 43/100\n",
      "375/375 [==============================] - 0s 484us/step - loss: 0.0011 - acc: 1.0000 - val_loss: 0.0117 - val_acc: 0.9920\n",
      "Epoch 44/100\n",
      "375/375 [==============================] - 0s 479us/step - loss: 0.0011 - acc: 1.0000 - val_loss: 0.0111 - val_acc: 0.9920\n",
      "Epoch 45/100\n",
      "375/375 [==============================] - 0s 452us/step - loss: 0.0010 - acc: 1.0000 - val_loss: 0.0113 - val_acc: 0.9920\n",
      "Epoch 46/100\n",
      "375/375 [==============================] - 0s 457us/step - loss: 9.8853e-04 - acc: 1.0000 - val_loss: 0.0114 - val_acc: 0.9920\n",
      "Epoch 47/100\n",
      "375/375 [==============================] - 0s 447us/step - loss: 9.5306e-04 - acc: 1.0000 - val_loss: 0.0119 - val_acc: 0.9920\n",
      "Epoch 48/100\n",
      "375/375 [==============================] - 0s 452us/step - loss: 9.3744e-04 - acc: 1.0000 - val_loss: 0.0115 - val_acc: 0.9920\n",
      "Epoch 49/100\n",
      "375/375 [==============================] - 0s 471us/step - loss: 9.0721e-04 - acc: 1.0000 - val_loss: 0.0106 - val_acc: 0.9920\n",
      "Epoch 50/100\n",
      "375/375 [==============================] - 0s 455us/step - loss: 8.7756e-04 - acc: 1.0000 - val_loss: 0.0115 - val_acc: 0.9920\n",
      "Epoch 51/100\n",
      "375/375 [==============================] - 0s 463us/step - loss: 8.4237e-04 - acc: 1.0000 - val_loss: 0.0105 - val_acc: 0.9920\n",
      "Epoch 52/100\n",
      "375/375 [==============================] - 0s 487us/step - loss: 8.1530e-04 - acc: 1.0000 - val_loss: 0.0111 - val_acc: 0.9920\n",
      "Epoch 53/100\n",
      "375/375 [==============================] - 0s 441us/step - loss: 7.6898e-04 - acc: 1.0000 - val_loss: 0.0105 - val_acc: 0.9920\n",
      "Epoch 54/100\n",
      "375/375 [==============================] - 0s 452us/step - loss: 7.5811e-04 - acc: 1.0000 - val_loss: 0.0103 - val_acc: 0.9920\n",
      "Epoch 55/100\n",
      "375/375 [==============================] - 0s 513us/step - loss: 7.2522e-04 - acc: 1.0000 - val_loss: 0.0110 - val_acc: 0.9920\n",
      "Epoch 56/100\n",
      "375/375 [==============================] - 0s 503us/step - loss: 7.1178e-04 - acc: 1.0000 - val_loss: 0.0104 - val_acc: 0.9920\n",
      "Epoch 57/100\n",
      "375/375 [==============================] - 0s 447us/step - loss: 6.7390e-04 - acc: 1.0000 - val_loss: 0.0104 - val_acc: 0.9920\n",
      "Epoch 58/100\n",
      "375/375 [==============================] - 0s 465us/step - loss: 6.6172e-04 - acc: 1.0000 - val_loss: 0.0108 - val_acc: 0.9920\n",
      "Epoch 59/100\n",
      "375/375 [==============================] - 0s 441us/step - loss: 6.5340e-04 - acc: 1.0000 - val_loss: 0.0098 - val_acc: 0.9920\n",
      "Epoch 60/100\n",
      "375/375 [==============================] - 0s 457us/step - loss: 6.2011e-04 - acc: 1.0000 - val_loss: 0.0099 - val_acc: 0.9920\n",
      "Epoch 61/100\n",
      "375/375 [==============================] - 0s 431us/step - loss: 6.3960e-04 - acc: 1.0000 - val_loss: 0.0098 - val_acc: 0.9920\n",
      "Epoch 62/100\n",
      "375/375 [==============================] - 0s 431us/step - loss: 5.8889e-04 - acc: 1.0000 - val_loss: 0.0104 - val_acc: 0.9920\n",
      "Epoch 63/100\n",
      "375/375 [==============================] - 0s 444us/step - loss: 5.5535e-04 - acc: 1.0000 - val_loss: 0.0097 - val_acc: 0.9920\n",
      "Epoch 64/100\n",
      "375/375 [==============================] - 0s 436us/step - loss: 5.3528e-04 - acc: 1.0000 - val_loss: 0.0103 - val_acc: 0.9920\n",
      "Epoch 65/100\n",
      "375/375 [==============================] - 0s 439us/step - loss: 5.1792e-04 - acc: 1.0000 - val_loss: 0.0094 - val_acc: 1.0000\n",
      "Epoch 66/100\n",
      "375/375 [==============================] - 0s 441us/step - loss: 5.1352e-04 - acc: 1.0000 - val_loss: 0.0106 - val_acc: 0.9920\n",
      "Epoch 67/100\n",
      "375/375 [==============================] - 0s 439us/step - loss: 4.8445e-04 - acc: 1.0000 - val_loss: 0.0103 - val_acc: 0.9920\n",
      "Epoch 68/100\n",
      "375/375 [==============================] - 0s 439us/step - loss: 4.6022e-04 - acc: 1.0000 - val_loss: 0.0100 - val_acc: 0.9920\n",
      "Epoch 69/100\n",
      "375/375 [==============================] - 0s 444us/step - loss: 4.3921e-04 - acc: 1.0000 - val_loss: 0.0100 - val_acc: 0.9920\n",
      "Epoch 70/100\n",
      "375/375 [==============================] - 0s 495us/step - loss: 4.1814e-04 - acc: 1.0000 - val_loss: 0.0094 - val_acc: 1.0000\n",
      "Epoch 71/100\n",
      "375/375 [==============================] - 0s 489us/step - loss: 4.1321e-04 - acc: 1.0000 - val_loss: 0.0101 - val_acc: 0.9920\n",
      "Epoch 72/100\n",
      "375/375 [==============================] - 0s 441us/step - loss: 3.9402e-04 - acc: 1.0000 - val_loss: 0.0093 - val_acc: 1.0000\n",
      "Epoch 73/100\n",
      "375/375 [==============================] - 0s 460us/step - loss: 3.6628e-04 - acc: 1.0000 - val_loss: 0.0093 - val_acc: 1.0000\n",
      "Epoch 74/100\n",
      "375/375 [==============================] - 0s 444us/step - loss: 3.5610e-04 - acc: 1.0000 - val_loss: 0.0090 - val_acc: 1.0000\n",
      "Epoch 75/100\n",
      "375/375 [==============================] - 0s 457us/step - loss: 3.4110e-04 - acc: 1.0000 - val_loss: 0.0089 - val_acc: 1.0000\n",
      "Epoch 76/100\n",
      "375/375 [==============================] - 0s 593us/step - loss: 3.1682e-04 - acc: 1.0000 - val_loss: 0.0088 - val_acc: 1.0000\n",
      "Epoch 77/100\n",
      "375/375 [==============================] - 0s 654us/step - loss: 3.1224e-04 - acc: 1.0000 - val_loss: 0.0094 - val_acc: 1.0000\n",
      "Epoch 78/100\n",
      "375/375 [==============================] - 0s 705us/step - loss: 2.9476e-04 - acc: 1.0000 - val_loss: 0.0087 - val_acc: 1.0000\n",
      "Epoch 79/100\n",
      "375/375 [==============================] - 0s 543us/step - loss: 2.7969e-04 - acc: 1.0000 - val_loss: 0.0087 - val_acc: 1.0000\n",
      "Epoch 80/100\n",
      "375/375 [==============================] - 0s 476us/step - loss: 2.6099e-04 - acc: 1.0000 - val_loss: 0.0091 - val_acc: 1.0000\n",
      "Epoch 81/100\n",
      "375/375 [==============================] - 0s 511us/step - loss: 2.5308e-04 - acc: 1.0000 - val_loss: 0.0086 - val_acc: 1.0000\n",
      "Epoch 82/100\n",
      "375/375 [==============================] - 0s 439us/step - loss: 2.3952e-04 - acc: 1.0000 - val_loss: 0.0086 - val_acc: 1.0000\n",
      "Epoch 83/100\n",
      "375/375 [==============================] - 0s 622us/step - loss: 2.3193e-04 - acc: 1.0000 - val_loss: 0.0088 - val_acc: 1.0000\n",
      "Epoch 84/100\n",
      "375/375 [==============================] - 0s 1ms/step - loss: 2.1836e-04 - acc: 1.0000 - val_loss: 0.0086 - val_acc: 1.0000\n",
      "Epoch 85/100\n",
      "375/375 [==============================] - 0s 729us/step - loss: 2.0800e-04 - acc: 1.0000 - val_loss: 0.0085 - val_acc: 1.0000\n",
      "Epoch 86/100\n",
      "375/375 [==============================] - 0s 673us/step - loss: 1.9942e-04 - acc: 1.0000 - val_loss: 0.0087 - val_acc: 1.0000\n",
      "Epoch 87/100\n",
      "375/375 [==============================] - 0s 681us/step - loss: 1.9102e-04 - acc: 1.0000 - val_loss: 0.0086 - val_acc: 1.0000\n",
      "Epoch 88/100\n",
      "375/375 [==============================] - 0s 678us/step - loss: 1.8512e-04 - acc: 1.0000 - val_loss: 0.0084 - val_acc: 1.0000\n",
      "Epoch 89/100\n",
      "375/375 [==============================] - 0s 673us/step - loss: 1.7618e-04 - acc: 1.0000 - val_loss: 0.0082 - val_acc: 1.0000\n",
      "Epoch 90/100\n",
      "375/375 [==============================] - 0s 596us/step - loss: 1.6673e-04 - acc: 1.0000 - val_loss: 0.0081 - val_acc: 1.0000\n",
      "Epoch 91/100\n",
      "375/375 [==============================] - 0s 660us/step - loss: 1.6044e-04 - acc: 1.0000 - val_loss: 0.0081 - val_acc: 1.0000\n",
      "Epoch 92/100\n",
      "375/375 [==============================] - 0s 684us/step - loss: 1.5269e-04 - acc: 1.0000 - val_loss: 0.0082 - val_acc: 1.0000\n",
      "Epoch 93/100\n",
      "375/375 [==============================] - 0s 606us/step - loss: 1.5279e-04 - acc: 1.0000 - val_loss: 0.0076 - val_acc: 1.0000\n",
      "Epoch 94/100\n",
      "375/375 [==============================] - 0s 715us/step - loss: 1.3537e-04 - acc: 1.0000 - val_loss: 0.0084 - val_acc: 1.0000\n",
      "Epoch 95/100\n",
      "375/375 [==============================] - 0s 673us/step - loss: 1.3292e-04 - acc: 1.0000 - val_loss: 0.0074 - val_acc: 1.0000\n",
      "Epoch 96/100\n",
      "375/375 [==============================] - 0s 644us/step - loss: 1.2252e-04 - acc: 1.0000 - val_loss: 0.0080 - val_acc: 1.0000\n",
      "Epoch 97/100\n",
      "375/375 [==============================] - 0s 620us/step - loss: 1.1890e-04 - acc: 1.0000 - val_loss: 0.0088 - val_acc: 1.0000\n",
      "Epoch 98/100\n",
      "375/375 [==============================] - 0s 660us/step - loss: 1.1194e-04 - acc: 1.0000 - val_loss: 0.0078 - val_acc: 1.0000\n",
      "Epoch 99/100\n",
      "375/375 [==============================] - 0s 761us/step - loss: 1.0685e-04 - acc: 1.0000 - val_loss: 0.0073 - val_acc: 1.0000\n",
      "Epoch 100/100\n",
      "375/375 [==============================] - 0s 660us/step - loss: 9.8040e-05 - acc: 1.0000 - val_loss: 0.0079 - val_acc: 1.0000\n"
     ]
    }
   ],
   "source": [
    "history = model.fit(X_train, y_train_hot,\n",
    "                 epochs=100,\n",
    "                 verbose=True,\n",
    "                 validation_data=(X_test, y_test_hot),\n",
    "                 batch_size=10)"
   ]
  },
  {
   "cell_type": "code",
   "execution_count": 35,
   "metadata": {},
   "outputs": [
    {
     "name": "stdout",
     "output_type": "stream",
     "text": [
      "Testing Accuracy:  0.8832\n"
     ]
    }
   ],
   "source": [
    "loss, accuracy = model.evaluate(X_test, y_test_hot, verbose=False)\n",
    "print(\"Testing Accuracy:  {:.4f}\".format(accuracy))"
   ]
  },
  {
   "cell_type": "code",
   "execution_count": 36,
   "metadata": {},
   "outputs": [],
   "source": [
    "import matplotlib.pyplot as plt\n",
    "plt.style.use('ggplot')\n",
    "\n",
    "def plot_history(history):\n",
    "    acc = history.history['acc']\n",
    "    val_acc = history.history['val_acc']\n",
    "    loss = history.history['loss']\n",
    "    val_loss = history.history['val_loss']\n",
    "    x = range(1, len(acc) + 1)\n",
    "\n",
    "    plt.figure(figsize=(12, 5))\n",
    "    plt.subplot(1, 2, 1)\n",
    "    plt.plot(x, acc, 'b', label='Training acc')\n",
    "    plt.plot(x, val_acc, 'r', label='Validation acc')\n",
    "    plt.title('Training and validation accuracy')\n",
    "    plt.legend()\n",
    "    plt.subplot(1, 2, 2)\n",
    "    plt.plot(x, loss, 'b', label='Training loss')\n",
    "    plt.plot(x, val_loss, 'r', label='Validation loss')\n",
    "    plt.title('Training and validation loss')\n",
    "    plt.legend()\n"
   ]
  },
  {
   "cell_type": "code",
   "execution_count": 37,
   "metadata": {
    "scrolled": true
   },
   "outputs": [
    {
     "data": {
      "image/png": "[encoded data removed]",
      "text/plain": [
       "<Figure size 864x360 with 2 Axes>"
      ]
     },
     "metadata": {},
     "output_type": "display_data"
    }
   ],
   "source": [
    "plot_history(history)"
   ]
  },
  {
   "cell_type": "markdown",
   "metadata": {},
   "source": [
    "### 6. Neural Network with text tokenization"
   ]
  },
  {
   "cell_type": "code",
   "execution_count": 38,
   "metadata": {},
   "outputs": [],
   "source": [
    "from keras.preprocessing.text import Tokenizer\n",
    "from keras.preprocessing.sequence import pad_sequences\n",
    "\n",
    "tokenizer = Tokenizer(num_words=5000)\n",
    "tokenizer.fit_on_texts(x_train)\n",
    "X_train = tokenizer.texts_to_sequences(x_train)\n",
    "X_test = tokenizer.texts_to_sequences(x_test)"
   ]
  },
  {
   "cell_type": "code",
   "execution_count": 182,
   "metadata": {},
   "outputs": [
    {
     "data": {
      "text/plain": [
       "(375, 100)"
      ]
     },
     "execution_count": 182,
     "metadata": {},
     "output_type": "execute_result"
    }
   ],
   "source": [
    "vocab_size = len(tokenizer.word_index) + 1  # Adding 1 because of reserved 0 index\n",
    "maxlen = 100\n",
    "\n",
    "X_train = pad_sequences(X_train, padding='post', maxlen=maxlen)\n",
    "X_test = pad_sequences(X_test, padding='post', maxlen=maxlen)\n",
    "X_train"
   ]
  },
  {
   "cell_type": "code",
   "execution_count": 40,
   "metadata": {},
   "outputs": [
    {
     "name": "stdout",
     "output_type": "stream",
     "text": [
      "_________________________________________________________________\n",
      "Layer (type)                 Output Shape              Param #   \n",
      "=================================================================\n",
      "embedding_1 (Embedding)      (None, 100, 50)           67950     \n",
      "_________________________________________________________________\n",
      "flatten_1 (Flatten)          (None, 5000)              0         \n",
      "_________________________________________________________________\n",
      "dense_3 (Dense)              (None, 35)                175035    \n",
      "_________________________________________________________________\n",
      "dense_4 (Dense)              (None, 30)                1080      \n",
      "=================================================================\n",
      "Total params: 244,065\n",
      "Trainable params: 244,065\n",
      "Non-trainable params: 0\n",
      "_________________________________________________________________\n"
     ]
    }
   ],
   "source": [
    "from keras.models import Sequential\n",
    "from keras import layers\n",
    "\n",
    "embedding_dim = 50\n",
    "\n",
    "model = Sequential()\n",
    "model.add(layers.Embedding(input_dim=vocab_size, \n",
    "                           output_dim=embedding_dim, \n",
    "                           input_length=maxlen))\n",
    "model.add(layers.Flatten())\n",
    "model.add(layers.Dense(35, activation='relu'))\n",
    "model.add(layers.Dense(30, activation='sigmoid'))\n",
    "model.compile(optimizer='adam',\n",
    "              loss='categorical_crossentropy',\n",
    "              metrics=['accuracy'])\n",
    "model.summary()"
   ]
  },
  {
   "cell_type": "code",
   "execution_count": 41,
   "metadata": {
    "scrolled": true
   },
   "outputs": [
    {
     "name": "stdout",
     "output_type": "stream",
     "text": [
      "Train on 871 samples, validate on 291 samples\n",
      "Epoch 1/20\n",
      "871/871 [==============================] - 1s 890us/step - loss: 2.7140 - acc: 0.3077 - val_loss: 2.1968 - val_acc: 0.3024\n",
      "Epoch 2/20\n",
      "871/871 [==============================] - 0s 503us/step - loss: 2.0398 - acc: 0.2974 - val_loss: 1.9150 - val_acc: 0.3024\n",
      "Epoch 3/20\n",
      "871/871 [==============================] - 0s 495us/step - loss: 1.5657 - acc: 0.3398 - val_loss: 1.5533 - val_acc: 0.4811\n",
      "Epoch 4/20\n",
      "871/871 [==============================] - 0s 489us/step - loss: 0.9542 - acc: 0.7049 - val_loss: 1.2543 - val_acc: 0.6667\n",
      "Epoch 5/20\n",
      "871/871 [==============================] - 0s 481us/step - loss: 0.4919 - acc: 0.8967 - val_loss: 1.1027 - val_acc: 0.7491\n",
      "Epoch 6/20\n",
      "871/871 [==============================] - 0s 498us/step - loss: 0.2562 - acc: 0.9621 - val_loss: 1.1793 - val_acc: 0.7354\n",
      "Epoch 7/20\n",
      "871/871 [==============================] - 0s 538us/step - loss: 0.1538 - acc: 0.9770 - val_loss: 1.1176 - val_acc: 0.7595\n",
      "Epoch 8/20\n",
      "871/871 [==============================] - 0s 526us/step - loss: 0.0991 - acc: 0.9897 - val_loss: 1.1301 - val_acc: 0.7663\n",
      "Epoch 9/20\n",
      "871/871 [==============================] - 0s 542us/step - loss: 0.0638 - acc: 0.9954 - val_loss: 1.1531 - val_acc: 0.7698\n",
      "Epoch 10/20\n",
      "871/871 [==============================] - 0s 502us/step - loss: 0.0404 - acc: 0.9989 - val_loss: 1.1886 - val_acc: 0.7526\n",
      "Epoch 11/20\n",
      "871/871 [==============================] - 0s 475us/step - loss: 0.0263 - acc: 0.9989 - val_loss: 1.1762 - val_acc: 0.7663\n",
      "Epoch 12/20\n",
      "871/871 [==============================] - 0s 477us/step - loss: 0.0188 - acc: 1.0000 - val_loss: 1.1882 - val_acc: 0.7698\n",
      "Epoch 13/20\n",
      "871/871 [==============================] - 0s 477us/step - loss: 0.0140 - acc: 1.0000 - val_loss: 1.2068 - val_acc: 0.7663\n",
      "Epoch 14/20\n",
      "871/871 [==============================] - 0s 487us/step - loss: 0.0110 - acc: 1.0000 - val_loss: 1.2219 - val_acc: 0.7698\n",
      "Epoch 15/20\n",
      "871/871 [==============================] - 0s 485us/step - loss: 0.0086 - acc: 1.0000 - val_loss: 1.2185 - val_acc: 0.7663\n",
      "Epoch 16/20\n",
      "871/871 [==============================] - 0s 480us/step - loss: 0.0071 - acc: 1.0000 - val_loss: 1.2419 - val_acc: 0.7663\n",
      "Epoch 17/20\n",
      "871/871 [==============================] - 0s 481us/step - loss: 0.0060 - acc: 1.0000 - val_loss: 1.2407 - val_acc: 0.7698\n",
      "Epoch 18/20\n",
      "871/871 [==============================] - 0s 518us/step - loss: 0.0052 - acc: 1.0000 - val_loss: 1.2405 - val_acc: 0.7698\n",
      "Epoch 19/20\n",
      "871/871 [==============================] - 0s 491us/step - loss: 0.0044 - acc: 1.0000 - val_loss: 1.2609 - val_acc: 0.7663\n",
      "Epoch 20/20\n",
      "871/871 [==============================] - 0s 484us/step - loss: 0.0038 - acc: 1.0000 - val_loss: 1.2687 - val_acc: 0.7663\n",
      "Training Accuracy: 1.0000\n",
      "Testing Accuracy:  0.7663\n"
     ]
    },
    {
     "data": {
      "image/png": "[encoded data removed]",
      "text/plain": [
       "<Figure size 864x360 with 2 Axes>"
      ]
     },
     "metadata": {},
     "output_type": "display_data"
    }
   ],
   "source": [
    "history = model.fit(X_train, y_train_hot,\n",
    "                    epochs=20,\n",
    "                    verbose=True,\n",
    "                    validation_data=(X_test, y_test_hot),\n",
    "                    batch_size=10)\n",
    "loss, accuracy = model.evaluate(X_train, y_train_hot, verbose=False)\n",
    "print(\"Training Accuracy: {:.4f}\".format(accuracy))\n",
    "loss, accuracy = model.evaluate(X_test, y_test_hot, verbose=False)\n",
    "print(\"Testing Accuracy:  {:.4f}\".format(accuracy))\n",
    "plot_history(history)"
   ]
  },
  {
   "cell_type": "code",
   "execution_count": 42,
   "metadata": {},
   "outputs": [],
   "source": [
    "y_pred = model.predict(X_test)"
   ]
  },
  {
   "cell_type": "code",
   "execution_count": 43,
   "metadata": {},
   "outputs": [],
   "source": [
    "y_pred = hotdecode(y_pred)"
   ]
  },
  {
   "cell_type": "code",
   "execution_count": 44,
   "metadata": {},
   "outputs": [],
   "source": [
    "param_grid = dict(num_filters=[32, 64, 128],\n",
    "                  kernel_size=[3, 5, 7],\n",
    "                  vocab_size=[5000], \n",
    "                  embedding_dim=[50],\n",
    "                  maxlen=[100])"
   ]
  },
  {
   "cell_type": "code",
   "execution_count": null,
   "metadata": {},
   "outputs": [],
   "source": []
  },
  {
   "cell_type": "code",
   "execution_count": 89,
   "metadata": {},
   "outputs": [
    {
     "name": "stdout",
     "output_type": "stream",
     "text": [
      "[0.66666667 0.         0.         0.         0.         0.\n",
      " 1.         0.         1.         0.5        0.66666667 1.\n",
      " 0.         0.         0.33333333 0.61538462 1.         0.\n",
      " 0.         0.         0.74358974 0.         0.51724138]\n"
     ]
    },
    {
     "name": "stderr",
     "output_type": "stream",
     "text": [
      "C:\\Users\\Dolpy\\Anaconda3\\lib\\site-packages\\sklearn\\metrics\\classification.py:1143: UndefinedMetricWarning: Precision is ill-defined and being set to 0.0 in labels with no predicted samples.\n",
      "  'precision', 'predicted', average, warn_for)\n"
     ]
    }
   ],
   "source": [
    "cm=confusion_matrix(y_test, y_pred)\n",
    "prec_score = precision_score(y_test, y_pred , average=None)\n",
    "print(prec_score)"
   ]
  },
  {
   "cell_type": "code",
   "execution_count": 90,
   "metadata": {},
   "outputs": [
    {
     "name": "stderr",
     "output_type": "stream",
     "text": [
      "Exception ignored in: <bound method BaseSession._Callable.__del__ of <tensorflow.python.client.session.BaseSession._Callable object at 0x000001A53D6A13C8>>\n",
      "Traceback (most recent call last):\n",
      "  File \"C:\\Users\\Dolpy\\Anaconda3\\lib\\site-packages\\tensorflow\\python\\client\\session.py\", line 1398, in __del__\n",
      "    self._session._session, self._handle, status)\n",
      "  File \"C:\\Users\\Dolpy\\Anaconda3\\lib\\site-packages\\tensorflow\\python\\framework\\errors_impl.py\", line 519, in __exit__\n",
      "    c_api.TF_GetCode(self.status.status))\n",
      "tensorflow.python.framework.errors_impl.InvalidArgumentError: No such callable handle: 1808784556104\n"
     ]
    },
    {
     "data": {
      "text/plain": [
       "<matplotlib.axes._subplots.AxesSubplot at 0x1a53d6e4f60>"
      ]
     },
     "execution_count": 90,
     "metadata": {},
     "output_type": "execute_result"
    },
    {
     "data": {
      "image/png": "[encoded data removed]",
      "text/plain": [
       "<Figure size 720x504 with 2 Axes>"
      ]
     },
     "metadata": {},
     "output_type": "display_data"
    }
   ],
   "source": [
    "df_cm = pd.DataFrame(cm, index = [i for i in \"ABCDEFGHIJKLMNOPQRSTUVW\"],\n",
    "                  columns = [i for i in \"ABCDEFGHIJKLMNOPQRSTUVW\"])\n",
    "plt.figure(figsize = (10,7))\n",
    "sn.heatmap(df_cm, annot=True)"
   ]
  },
  {
   "cell_type": "markdown",
   "metadata": {},
   "source": [
    "# Dealing with imbalance dataset\n",
    "## Upsampling minority datapoints"
   ]
  },
  {
   "cell_type": "code",
   "execution_count": 91,
   "metadata": {
    "scrolled": true
   },
   "outputs": [
    {
     "data": {
      "text/plain": [
       "30    347\n",
       "28    270\n",
       "8     151\n",
       "6      69\n",
       "20     50\n",
       "10     42\n",
       "21     41\n",
       "1      38\n",
       "15     28\n",
       "12     20\n",
       "4      18\n",
       "16     12\n",
       "29     10\n",
       "22     10\n",
       "3       9\n",
       "9       7\n",
       "26      6\n",
       "5       6\n",
       "24      5\n",
       "2       4\n",
       "18      3\n",
       "14      3\n",
       "17      2\n",
       "19      2\n",
       "25      2\n",
       "7       2\n",
       "11      2\n",
       "13      1\n",
       "23      1\n",
       "27      1\n",
       "Name: label, dtype: int64"
      ]
     },
     "execution_count": 91,
     "metadata": {},
     "output_type": "execute_result"
    }
   ],
   "source": [
    "df.label.value_counts()"
   ]
  },
  {
   "cell_type": "code",
   "execution_count": 92,
   "metadata": {},
   "outputs": [],
   "source": [
    "# Separate majority and minority classes\n",
    "df_majority = pd.concat([df[df.label==30], df[df.label==28], df[df.label==8], df[df.label==6]])"
   ]
  },
  {
   "cell_type": "code",
   "execution_count": 93,
   "metadata": {},
   "outputs": [],
   "source": [
    "df_minority = df"
   ]
  },
  {
   "cell_type": "code",
   "execution_count": 94,
   "metadata": {},
   "outputs": [],
   "source": [
    "df_minority = df_minority[df_minority.label != 30]\n",
    "df_minority = df_minority[df_minority.label != 28]\n",
    "df_minority = df_minority[df_minority.label != 8]\n",
    "df_minority = df_minority[df_minority.label != 6]\n"
   ]
  },
  {
   "cell_type": "code",
   "execution_count": 95,
   "metadata": {},
   "outputs": [],
   "source": [
    "list_ = df_minority.label.value_counts().to_dict()"
   ]
  },
  {
   "cell_type": "code",
   "execution_count": 96,
   "metadata": {},
   "outputs": [],
   "source": [
    "keys = list(list_.keys())"
   ]
  },
  {
   "cell_type": "code",
   "execution_count": 185,
   "metadata": {
    "scrolled": true
   },
   "outputs": [],
   "source": [
    "from sklearn.utils import resample\n",
    "# Upsample minority class\n",
    "for i in range(len(keys)):\n",
    "    count = list_[keys[i]]\n",
    "    if count < 50:\n",
    "        df_minority_upsampled = resample(df_minority[df_minority.label==keys[i]], \n",
    "                                         replace=True,     # sample with replacement\n",
    "                                         n_samples=50,    # to match majority class\n",
    "                                         random_state=123) # reproducible results\n",
    "df_majority = pd.concat([df_majority, df_minority_upsampled])\n",
    "df_upsampled = df_majority"
   ]
  },
  {
   "cell_type": "markdown",
   "metadata": {},
   "source": [
    "Generated Balanced Dataset"
   ]
  },
  {
   "cell_type": "code",
   "execution_count": 100,
   "metadata": {
    "scrolled": true
   },
   "outputs": [
    {
     "name": "stdout",
     "output_type": "stream",
     "text": [
      "30    347\n",
      "28    270\n",
      "8     151\n",
      "13    100\n",
      "6      69\n",
      "Name: label, dtype: int64\n"
     ]
    }
   ],
   "source": [
    "print(df_upsampled.label.value_counts())\n",
    "df_upsampled = df_upsampled.sample(frac=1).reset_index(drop=True)"
   ]
  },
  {
   "cell_type": "code",
   "execution_count": 101,
   "metadata": {},
   "outputs": [
    {
     "data": {
      "text/html": [
       "<div>\n",
       "<style scoped>\n",
       "    .dataframe tbody tr th:only-of-type {\n",
       "        vertical-align: middle;\n",
       "    }\n",
       "\n",
       "    .dataframe tbody tr th {\n",
       "        vertical-align: top;\n",
       "    }\n",
       "\n",
       "    .dataframe thead th {\n",
       "        text-align: right;\n",
       "    }\n",
       "</style>\n",
       "<table border=\"1\" class=\"dataframe\">\n",
       "  <thead>\n",
       "    <tr style=\"text-align: right;\">\n",
       "      <th></th>\n",
       "      <th>label</th>\n",
       "      <th>keyword</th>\n",
       "    </tr>\n",
       "  </thead>\n",
       "  <tbody>\n",
       "    <tr>\n",
       "      <th>0</th>\n",
       "      <td>28</td>\n",
       "      <td>tourism,tours,sales,international travel,trave...</td>\n",
       "    </tr>\n",
       "    <tr>\n",
       "      <th>1</th>\n",
       "      <td>30</td>\n",
       "      <td>english,light,driver,Tour / Travel Management,...</td>\n",
       "    </tr>\n",
       "    <tr>\n",
       "      <th>2</th>\n",
       "      <td>28</td>\n",
       "      <td>sales,business Development,,Sales / BD,M,I,C,E...</td>\n",
       "    </tr>\n",
       "    <tr>\n",
       "      <th>3</th>\n",
       "      <td>28</td>\n",
       "      <td>Ticketing,Documentation,Travel,Sales / BD,T,r,...</td>\n",
       "    </tr>\n",
       "    <tr>\n",
       "      <th>4</th>\n",
       "      <td>30</td>\n",
       "      <td>operations,mice,crm,product,land,outbound,vend...</td>\n",
       "    </tr>\n",
       "  </tbody>\n",
       "</table>\n",
       "</div>"
      ],
      "text/plain": [
       "   label                                            keyword\n",
       "0     28  tourism,tours,sales,international travel,trave...\n",
       "1     30  english,light,driver,Tour / Travel Management,...\n",
       "2     28  sales,business Development,,Sales / BD,M,I,C,E...\n",
       "3     28  Ticketing,Documentation,Travel,Sales / BD,T,r,...\n",
       "4     30  operations,mice,crm,product,land,outbound,vend..."
      ]
     },
     "execution_count": 101,
     "metadata": {},
     "output_type": "execute_result"
    }
   ],
   "source": [
    "df_upsampled.head()"
   ]
  },
  {
   "cell_type": "markdown",
   "metadata": {},
   "source": [
    "Spilting into Training and Testing"
   ]
  },
  {
   "cell_type": "code",
   "execution_count": 102,
   "metadata": {},
   "outputs": [
    {
     "name": "stdout",
     "output_type": "stream",
     "text": [
      "size of x_train (702,), x_test (235,), y_train (702,), y_test (235,)\n"
     ]
    }
   ],
   "source": [
    "x = df_upsampled['keyword'].values\n",
    "y = df_upsampled['label'].values\n",
    "\n",
    "\n",
    "x_train, x_test, y_train, y_test = train_test_split(x, y, test_size=0.25)\n",
    "print('size of x_train %s, x_test %s, y_train %s, y_test %s'%(x_train.shape, x_test.shape, y_train.shape, y_test.shape))\n",
    "\n",
    "\n",
    "vectorizer = CountVectorizer()\n",
    "vectorizer.fit(x_train)\n",
    "\n",
    "\n",
    "X_train = vectorizer.transform(x_train)\n",
    "X_test  = vectorizer.transform(x_test)\n",
    "\n",
    "\n",
    "y_train_hot = hotencode(y_train)\n",
    "y_test_hot = hotencode(y_test)\n"
   ]
  },
  {
   "cell_type": "markdown",
   "metadata": {},
   "source": [
    "### 7. Random Forest with Balanced Dataset"
   ]
  },
  {
   "cell_type": "code",
   "execution_count": 103,
   "metadata": {
    "scrolled": true
   },
   "outputs": [
    {
     "name": "stdout",
     "output_type": "stream",
     "text": [
      "Accuracy of forest classifier: 96.17\n"
     ]
    }
   ],
   "source": [
    "forest = RandomForestClassifier(class_weight='balanced')\n",
    "forest.fit(X_train, y_train)\n",
    "score = forest.score(X_test, y_test)\n",
    "\n",
    "print(\"Accuracy of forest classifier:\", round(score,4)*100)"
   ]
  },
  {
   "cell_type": "code",
   "execution_count": 104,
   "metadata": {
    "scrolled": true
   },
   "outputs": [
    {
     "data": {
      "text/plain": [
       "<matplotlib.axes._subplots.AxesSubplot at 0x1a53d6e4c50>"
      ]
     },
     "execution_count": 104,
     "metadata": {},
     "output_type": "execute_result"
    },
    {
     "data": {
      "image/png": "[encoded data removed]",
      "text/plain": [
       "<Figure size 720x504 with 2 Axes>"
      ]
     },
     "metadata": {},
     "output_type": "display_data"
    }
   ],
   "source": [
    "y_pred = forest.predict(X_test)\n",
    "cm=confusion_matrix(y_test, y_pred)\n",
    "\n",
    "index = columns = [i for i in range(len(cm))]\n",
    "df_cm = pd.DataFrame(cm, index = index,\n",
    "                  columns = columns)\n",
    "plt.figure(figsize = (10,7))\n",
    "sn.heatmap(df_cm, annot=True)"
   ]
  },
  {
   "cell_type": "markdown",
   "metadata": {},
   "source": [
    "### 8. Neural Network with Balanced dataset and text tokenization"
   ]
  },
  {
   "cell_type": "code",
   "execution_count": 105,
   "metadata": {},
   "outputs": [],
   "source": [
    "from keras.preprocessing.text import Tokenizer\n",
    "from keras.preprocessing.sequence import pad_sequences\n",
    "\n",
    "\n",
    "tokenizer = Tokenizer(num_words=5000)\n",
    "tokenizer.fit_on_texts(x_train)\n",
    "\n",
    "X_train = tokenizer.texts_to_sequences(x_train)\n",
    "X_test = tokenizer.texts_to_sequences(x_test)\n",
    "\n",
    "vocab_size = len(tokenizer.word_index) + 1  # Adding 1 because of reserved 0 index\n",
    "maxlen = 100\n",
    "\n",
    "\n",
    "X_train = pad_sequences(X_train, padding='post', maxlen=maxlen)\n",
    "X_test = pad_sequences(X_test, padding='post', maxlen=maxlen)\n",
    "\n"
   ]
  },
  {
   "cell_type": "code",
   "execution_count": 106,
   "metadata": {},
   "outputs": [
    {
     "name": "stdout",
     "output_type": "stream",
     "text": [
      "_________________________________________________________________\n",
      "Layer (type)                 Output Shape              Param #   \n",
      "=================================================================\n",
      "embedding_4 (Embedding)      (None, 100, 50)           46300     \n",
      "_________________________________________________________________\n",
      "flatten_4 (Flatten)          (None, 5000)              0         \n",
      "_________________________________________________________________\n",
      "dense_9 (Dense)              (None, 35)                175035    \n",
      "_________________________________________________________________\n",
      "dense_10 (Dense)             (None, 30)                1080      \n",
      "=================================================================\n",
      "Total params: 222,415\n",
      "Trainable params: 222,415\n",
      "Non-trainable params: 0\n",
      "_________________________________________________________________\n"
     ]
    }
   ],
   "source": [
    "from keras.models import Sequential\n",
    "from keras import layers\n",
    "\n",
    "embedding_dim = 50\n",
    "\n",
    "model = Sequential()\n",
    "model.add(layers.Embedding(input_dim=vocab_size, \n",
    "                           output_dim=embedding_dim, \n",
    "                           input_length=maxlen))\n",
    "model.add(layers.Flatten())\n",
    "model.add(layers.Dense(35, activation='relu'))\n",
    "model.add(layers.Dense(30, activation='sigmoid'))\n",
    "model.compile(optimizer='adam',\n",
    "              loss='categorical_crossentropy',\n",
    "              metrics=['accuracy'])\n",
    "model.summary()\n"
   ]
  },
  {
   "cell_type": "code",
   "execution_count": 107,
   "metadata": {
    "scrolled": true
   },
   "outputs": [
    {
     "name": "stdout",
     "output_type": "stream",
     "text": [
      "Train on 702 samples, validate on 235 samples\n",
      "Epoch 1/20\n",
      "702/702 [==============================] - 1s 1ms/step - loss: 2.2187 - acc: 0.1909 - val_loss: 1.4107 - val_acc: 0.1660\n",
      "Epoch 2/20\n",
      "702/702 [==============================] - 0s 527us/step - loss: 1.3227 - acc: 0.1595 - val_loss: 1.3101 - val_acc: 0.1660\n",
      "Epoch 3/20\n",
      "702/702 [==============================] - 0s 499us/step - loss: 1.2583 - acc: 0.1595 - val_loss: 1.2208 - val_acc: 0.1660\n",
      "Epoch 4/20\n",
      "702/702 [==============================] - 0s 500us/step - loss: 1.1309 - acc: 0.1595 - val_loss: 1.1148 - val_acc: 0.1660\n",
      "Epoch 5/20\n",
      "702/702 [==============================] - 0s 531us/step - loss: 1.0415 - acc: 0.1595 - val_loss: 1.0508 - val_acc: 0.1660\n",
      "Epoch 6/20\n",
      "702/702 [==============================] - 0s 530us/step - loss: 0.9888 - acc: 0.1595 - val_loss: 1.0444 - val_acc: 0.1660\n",
      "Epoch 7/20\n",
      "702/702 [==============================] - 0s 553us/step - loss: 0.9683 - acc: 0.1595 - val_loss: 1.0468 - val_acc: 0.1660\n",
      "Epoch 8/20\n",
      "702/702 [==============================] - 0s 534us/step - loss: 0.9590 - acc: 0.1595 - val_loss: 1.0375 - val_acc: 0.1660\n",
      "Epoch 9/20\n",
      "702/702 [==============================] - 0s 533us/step - loss: 0.9532 - acc: 0.1595 - val_loss: 1.0316 - val_acc: 0.1660\n",
      "Epoch 10/20\n",
      "702/702 [==============================] - 0s 540us/step - loss: 0.9497 - acc: 0.1595 - val_loss: 1.0333 - val_acc: 0.1660\n",
      "Epoch 11/20\n",
      "702/702 [==============================] - 0s 519us/step - loss: 0.9476 - acc: 0.1595 - val_loss: 1.0339 - val_acc: 0.1660\n",
      "Epoch 12/20\n",
      "702/702 [==============================] - 0s 526us/step - loss: 0.9464 - acc: 0.1595 - val_loss: 1.0364 - val_acc: 0.1660\n",
      "Epoch 13/20\n",
      "702/702 [==============================] - 0s 510us/step - loss: 0.9455 - acc: 0.1595 - val_loss: 1.0374 - val_acc: 0.1660\n",
      "Epoch 14/20\n",
      "702/702 [==============================] - 0s 524us/step - loss: 0.9446 - acc: 0.1595 - val_loss: 1.0354 - val_acc: 0.1660\n",
      "Epoch 15/20\n",
      "702/702 [==============================] - 0s 543us/step - loss: 0.9441 - acc: 0.1595 - val_loss: 1.0272 - val_acc: 0.1660\n",
      "Epoch 16/20\n",
      "702/702 [==============================] - 0s 482us/step - loss: 0.9437 - acc: 0.1595 - val_loss: 1.0364 - val_acc: 0.1660\n",
      "Epoch 17/20\n",
      "702/702 [==============================] - 0s 486us/step - loss: 0.9431 - acc: 0.1595 - val_loss: 1.0275 - val_acc: 0.1660\n",
      "Epoch 18/20\n",
      "702/702 [==============================] - 0s 544us/step - loss: 0.9429 - acc: 0.1595 - val_loss: 1.0312 - val_acc: 0.1660\n",
      "Epoch 19/20\n",
      "702/702 [==============================] - 0s 524us/step - loss: 0.9428 - acc: 0.1595 - val_loss: 1.0284 - val_acc: 0.1660\n",
      "Epoch 20/20\n",
      "702/702 [==============================] - 0s 523us/step - loss: 0.9427 - acc: 0.1595 - val_loss: 1.0320 - val_acc: 0.1660\n",
      "Training Accuracy: 0.1595\n",
      "Testing Accuracy:  0.1660\n"
     ]
    }
   ],
   "source": [
    "history = model.fit(X_train, y_train_hot,\n",
    "                    epochs=20,\n",
    "                    verbose=True,\n",
    "                    validation_data=(X_test, y_test_hot),\n",
    "                    batch_size=10)\n",
    "loss, accuracy = model.evaluate(X_train, y_train_hot, verbose=False)\n",
    "print(\"Training Accuracy: {:.4f}\".format(accuracy))\n",
    "loss, accuracy = model.evaluate(X_test, y_test_hot, verbose=False)\n",
    "print(\"Testing Accuracy:  {:.4f}\".format(accuracy))\n"
   ]
  },
  {
   "cell_type": "code",
   "execution_count": 108,
   "metadata": {},
   "outputs": [
    {
     "data": {
      "image/png": "[encoded data removed]",
      "text/plain": [
       "<Figure size 864x360 with 2 Axes>"
      ]
     },
     "metadata": {},
     "output_type": "display_data"
    }
   ],
   "source": [
    "plot_history(history)"
   ]
  },
  {
   "cell_type": "code",
   "execution_count": 109,
   "metadata": {},
   "outputs": [
    {
     "data": {
      "text/plain": [
       "<matplotlib.axes._subplots.AxesSubplot at 0x1a53df545f8>"
      ]
     },
     "execution_count": 109,
     "metadata": {},
     "output_type": "execute_result"
    },
    {
     "data": {
      "image/png": "[encoded data removed]",
      "text/plain": [
       "<Figure size 720x504 with 2 Axes>"
      ]
     },
     "metadata": {},
     "output_type": "display_data"
    }
   ],
   "source": [
    "y_pred = model.predict(X_test)\n",
    "y_pred = hotdecode(y_pred)\n",
    "\n",
    "cm=confusion_matrix(y_test, y_pred)\n",
    "\n",
    "index = columns = [i for i in range(len(cm))]\n",
    "df_cm = pd.DataFrame(cm, index = index,\n",
    "                  columns = columns)\n",
    "\n",
    "plt.figure(figsize = (10,7))\n",
    "sn.heatmap(df_cm, annot=True)"
   ]
  },
  {
   "cell_type": "markdown",
   "metadata": {},
   "source": [
    "## Downsampling majority datapoints and upsampling minority datapoints"
   ]
  },
  {
   "cell_type": "code",
   "execution_count": 110,
   "metadata": {},
   "outputs": [],
   "source": [
    "# Separate majority and minority classes\n",
    "df_majority = pd.concat([df_upsampled[df_upsampled.label==30], df_upsampled[df_upsampled.label==28], df_upsampled[df_upsampled.label==8], df_upsampled[df_upsampled.label==6]])\n",
    "\n",
    "df_minority = df_upsampled\n",
    "df_minority = df_minority[df_minority.label != 30]\n",
    "df_minority = df_minority[df_minority.label != 28]\n",
    "df_minority = df_minority[df_minority.label != 8]\n",
    "df_minority = df_minority[df_minority.label != 6]"
   ]
  },
  {
   "cell_type": "code",
   "execution_count": 111,
   "metadata": {},
   "outputs": [
    {
     "data": {
      "text/plain": [
       "30    347\n",
       "28    270\n",
       "8     151\n",
       "6      69\n",
       "Name: label, dtype: int64"
      ]
     },
     "execution_count": 111,
     "metadata": {},
     "output_type": "execute_result"
    }
   ],
   "source": [
    "df_majority.label.value_counts()"
   ]
  },
  {
   "cell_type": "code",
   "execution_count": 112,
   "metadata": {},
   "outputs": [],
   "source": [
    "list_ = df_majority.label.value_counts().to_dict()\n",
    "keys = list(list_.keys())"
   ]
  },
  {
   "cell_type": "code",
   "execution_count": 113,
   "metadata": {},
   "outputs": [
    {
     "data": {
      "text/plain": [
       "[30, 28, 8, 6]"
      ]
     },
     "execution_count": 113,
     "metadata": {},
     "output_type": "execute_result"
    }
   ],
   "source": [
    "keys"
   ]
  },
  {
   "cell_type": "code",
   "execution_count": 114,
   "metadata": {},
   "outputs": [],
   "source": [
    "from sklearn.utils import resample\n",
    "# Upsample minority class\n",
    "for i in range(len(keys)):\n",
    "    count = list_[keys[i]]\n",
    "    if count >100:\n",
    "        df_majority_downsampled = resample(df_majority[df_majority.label==keys[i]], \n",
    "                                         replace=False,     # sample with replacement\n",
    "                                         n_samples=100,    # to match majority class\n",
    "                                         random_state=123) # reproducible results\n",
    "    df_minority = pd.concat([df_minority, df_majority_downsampled])\n",
    "df_downsampled = df_minority"
   ]
  },
  {
   "cell_type": "code",
   "execution_count": 115,
   "metadata": {
    "scrolled": true
   },
   "outputs": [
    {
     "data": {
      "text/plain": [
       "8     200\n",
       "30    100\n",
       "28    100\n",
       "13    100\n",
       "Name: label, dtype: int64"
      ]
     },
     "execution_count": 115,
     "metadata": {},
     "output_type": "execute_result"
    }
   ],
   "source": [
    "df_downsampled.label.value_counts()"
   ]
  },
  {
   "cell_type": "code",
   "execution_count": 116,
   "metadata": {
    "scrolled": true
   },
   "outputs": [
    {
     "name": "stdout",
     "output_type": "stream",
     "text": [
      "size of x_train (375,), x_test (125,), y_train (375,), y_test (125,)\n"
     ]
    }
   ],
   "source": [
    "x = df_downsampled['keyword'].values\n",
    "y = df_downsampled['label'].values\n",
    "\n",
    "\n",
    "x_train, x_test, y_train, y_test = train_test_split(x, y, test_size=0.25)\n",
    "print('size of x_train %s, x_test %s, y_train %s, y_test %s'%(x_train.shape, x_test.shape, y_train.shape, y_test.shape))\n",
    "\n",
    "\n",
    "vectorizer = CountVectorizer()\n",
    "vectorizer.fit(x_train)\n",
    "\n",
    "\n",
    "X_train = vectorizer.transform(x_train)\n",
    "X_test  = vectorizer.transform(x_test)\n",
    "\n",
    "\n",
    "y_train_hot = hotencode(y_train)\n",
    "y_test_hot = hotencode(y_test)\n"
   ]
  },
  {
   "cell_type": "markdown",
   "metadata": {},
   "source": [
    "### 9. Neural Network with Downsampled Majority class and Upsample minority classes"
   ]
  },
  {
   "cell_type": "code",
   "execution_count": 117,
   "metadata": {},
   "outputs": [
    {
     "name": "stdout",
     "output_type": "stream",
     "text": [
      "_________________________________________________________________\n",
      "Layer (type)                 Output Shape              Param #   \n",
      "=================================================================\n",
      "embedding_5 (Embedding)      (None, 100, 50)           25250     \n",
      "_________________________________________________________________\n",
      "flatten_5 (Flatten)          (None, 5000)              0         \n",
      "_________________________________________________________________\n",
      "dense_11 (Dense)             (None, 35)                175035    \n",
      "_________________________________________________________________\n",
      "dense_12 (Dense)             (None, 30)                1080      \n",
      "=================================================================\n",
      "Total params: 201,365\n",
      "Trainable params: 201,365\n",
      "Non-trainable params: 0\n",
      "_________________________________________________________________\n"
     ]
    }
   ],
   "source": [
    "from keras.preprocessing.text import Tokenizer\n",
    "from keras.preprocessing.sequence import pad_sequences\n",
    "\n",
    "\n",
    "tokenizer = Tokenizer(num_words=5000)\n",
    "tokenizer.fit_on_texts(x_train)\n",
    "\n",
    "X_train = tokenizer.texts_to_sequences(x_train)\n",
    "X_test = tokenizer.texts_to_sequences(x_test)\n",
    "\n",
    "vocab_size = len(tokenizer.word_index) + 1  # Adding 1 because of reserved 0 index\n",
    "maxlen = 100\n",
    "\n",
    "\n",
    "X_train = pad_sequences(X_train, padding='post', maxlen=maxlen)\n",
    "X_test = pad_sequences(X_test, padding='post', maxlen=maxlen)\n",
    "\n",
    "from keras.models import Sequential\n",
    "from keras import layers\n",
    "\n",
    "embedding_dim = 50\n",
    "\n",
    "model = Sequential()\n",
    "model.add(layers.Embedding(input_dim=vocab_size, \n",
    "                           output_dim=embedding_dim, \n",
    "                           input_length=maxlen))\n",
    "model.add(layers.Flatten())\n",
    "model.add(layers.Dense(35, activation='relu'))\n",
    "model.add(layers.Dense(30, activation='sigmoid'))\n",
    "model.compile(optimizer='adam',\n",
    "              loss='categorical_crossentropy',\n",
    "              metrics=['accuracy'])\n",
    "model.summary()\n"
   ]
  },
  {
   "cell_type": "code",
   "execution_count": 118,
   "metadata": {
    "scrolled": true
   },
   "outputs": [
    {
     "name": "stdout",
     "output_type": "stream",
     "text": [
      "Train on 375 samples, validate on 125 samples\n",
      "Epoch 1/20\n",
      "375/375 [==============================] - 1s 2ms/step - loss: 2.6595 - acc: 0.4693 - val_loss: 1.8358 - val_acc: 0.2000\n",
      "Epoch 2/20\n",
      "375/375 [==============================] - 0s 566us/step - loss: 1.4646 - acc: 0.0587 - val_loss: 1.2824 - val_acc: 0.0080\n",
      "Epoch 3/20\n",
      "375/375 [==============================] - 0s 556us/step - loss: 1.2376 - acc: 0.2693 - val_loss: 1.1593 - val_acc: 0.4480\n",
      "Epoch 4/20\n",
      "375/375 [==============================] - 0s 505us/step - loss: 0.8126 - acc: 0.4640 - val_loss: 0.7306 - val_acc: 0.6320\n",
      "Epoch 5/20\n",
      "375/375 [==============================] - 0s 537us/step - loss: 0.3301 - acc: 0.8880 - val_loss: 0.2031 - val_acc: 0.9440\n",
      "Epoch 6/20\n",
      "375/375 [==============================] - 0s 577us/step - loss: 0.1059 - acc: 0.9787 - val_loss: 0.1325 - val_acc: 0.9360\n",
      "Epoch 7/20\n",
      "375/375 [==============================] - 0s 604us/step - loss: 0.0381 - acc: 1.0000 - val_loss: 0.0839 - val_acc: 1.0000\n",
      "Epoch 8/20\n",
      "375/375 [==============================] - 0s 580us/step - loss: 0.0197 - acc: 1.0000 - val_loss: 0.0665 - val_acc: 0.9840\n",
      "Epoch 9/20\n",
      "375/375 [==============================] - 0s 585us/step - loss: 0.0137 - acc: 1.0000 - val_loss: 0.0578 - val_acc: 0.9840\n",
      "Epoch 10/20\n",
      "375/375 [==============================] - 0s 580us/step - loss: 0.0085 - acc: 1.0000 - val_loss: 0.0485 - val_acc: 1.0000\n",
      "Epoch 11/20\n",
      "375/375 [==============================] - 0s 559us/step - loss: 0.0067 - acc: 1.0000 - val_loss: 0.0458 - val_acc: 1.0000\n",
      "Epoch 12/20\n",
      "375/375 [==============================] - 0s 556us/step - loss: 0.0049 - acc: 1.0000 - val_loss: 0.0431 - val_acc: 1.0000\n",
      "Epoch 13/20\n",
      "375/375 [==============================] - 0s 551us/step - loss: 0.0039 - acc: 1.0000 - val_loss: 0.0403 - val_acc: 1.0000\n",
      "Epoch 14/20\n",
      "375/375 [==============================] - 0s 543us/step - loss: 0.0034 - acc: 1.0000 - val_loss: 0.0393 - val_acc: 1.0000\n",
      "Epoch 15/20\n",
      "375/375 [==============================] - 0s 569us/step - loss: 0.0027 - acc: 1.0000 - val_loss: 0.0359 - val_acc: 1.0000\n",
      "Epoch 16/20\n",
      "375/375 [==============================] - 0s 572us/step - loss: 0.0023 - acc: 1.0000 - val_loss: 0.0341 - val_acc: 1.0000\n",
      "Epoch 17/20\n",
      "375/375 [==============================] - 0s 559us/step - loss: 0.0019 - acc: 1.0000 - val_loss: 0.0333 - val_acc: 1.0000\n",
      "Epoch 18/20\n",
      "375/375 [==============================] - 0s 559us/step - loss: 0.0017 - acc: 1.0000 - val_loss: 0.0321 - val_acc: 1.0000\n",
      "Epoch 19/20\n",
      "375/375 [==============================] - 0s 598us/step - loss: 0.0015 - acc: 1.0000 - val_loss: 0.0312 - val_acc: 1.0000\n",
      "Epoch 20/20\n",
      "375/375 [==============================] - 0s 572us/step - loss: 0.0013 - acc: 1.0000 - val_loss: 0.0302 - val_acc: 1.0000\n",
      "Training Accuracy: 1.0000\n",
      "Testing Accuracy:  1.0000\n"
     ]
    }
   ],
   "source": [
    "history = model.fit(X_train, y_train_hot,\n",
    "                    epochs=20,\n",
    "                    verbose=True,\n",
    "                    validation_data=(X_test, y_test_hot),\n",
    "                    batch_size=10)\n",
    "loss, accuracy = model.evaluate(X_train, y_train_hot, verbose=False)\n",
    "print(\"Training Accuracy: {:.4f}\".format(accuracy))\n",
    "loss, accuracy = model.evaluate(X_test, y_test_hot, verbose=False)\n",
    "print(\"Testing Accuracy:  {:.4f}\".format(accuracy))"
   ]
  },
  {
   "cell_type": "code",
   "execution_count": 119,
   "metadata": {},
   "outputs": [
    {
     "data": {
      "image/png": "[encoded data removed]",
      "text/plain": [
       "<Figure size 864x360 with 2 Axes>"
      ]
     },
     "metadata": {},
     "output_type": "display_data"
    }
   ],
   "source": [
    "plot_history(history)"
   ]
  },
  {
   "cell_type": "code",
   "execution_count": 120,
   "metadata": {},
   "outputs": [
    {
     "data": {
      "text/plain": [
       "<matplotlib.axes._subplots.AxesSubplot at 0x1a53d6e4668>"
      ]
     },
     "execution_count": 120,
     "metadata": {},
     "output_type": "execute_result"
    },
    {
     "data": {
      "image/png": "[encoded data removed]",
      "text/plain": [
       "<Figure size 720x504 with 2 Axes>"
      ]
     },
     "metadata": {},
     "output_type": "display_data"
    }
   ],
   "source": [
    "y_pred = model.predict(X_test)\n",
    "y_pred = hotdecode(y_pred)\n",
    "\n",
    "cm=confusion_matrix(y_test, y_pred)\n",
    "\n",
    "index = columns = [i for i in range(len(cm))]\n",
    "df_cm = pd.DataFrame(cm, index = index,\n",
    "                  columns = columns)\n",
    "\n",
    "plt.figure(figsize = (10,7))\n",
    "sn.heatmap(df_cm, annot=True)"
   ]
  },
  {
   "cell_type": "code",
   "execution_count": null,
   "metadata": {},
   "outputs": [],
   "source": []
  },
  {
   "cell_type": "code",
   "execution_count": null,
   "metadata": {},
   "outputs": [],
   "source": []
  },
  {
   "cell_type": "markdown",
   "metadata": {},
   "source": [
    "## Introducing Word Embedding from Glove\n",
    "Using pre-trained weights"
   ]
  },
  {
   "cell_type": "code",
   "execution_count": 144,
   "metadata": {},
   "outputs": [],
   "source": [
    "import numpy as np\n",
    "\n",
    "def create_embedding_matrix(filepath, word_index, embedding_dim):\n",
    "    vocab_size = len(word_index) + 1  # Adding again 1 because of reserved 0 index\n",
    "    embedding_matrix = np.zeros((vocab_size, embedding_dim))\n",
    "\n",
    "    with open(filepath , encoding=\"utf8\") as f:\n",
    "        for line in f:\n",
    "            word, *vector = line.split()\n",
    "            if word in word_index:\n",
    "                idx = word_index[word] \n",
    "                embedding_matrix[idx] = np.array(\n",
    "                    vector, dtype=np.float32)[:embedding_dim]\n",
    "\n",
    "    return embedding_matrix"
   ]
  },
  {
   "cell_type": "code",
   "execution_count": 146,
   "metadata": {
    "scrolled": false
   },
   "outputs": [],
   "source": [
    "embedding_dim = 50\n",
    "embedding_matrix = create_embedding_matrix(\n",
    "    'glove.6B.50d.txt',\n",
    "     tokenizer.word_index, embedding_dim)"
   ]
  },
  {
   "cell_type": "code",
   "execution_count": 147,
   "metadata": {},
   "outputs": [
    {
     "name": "stdout",
     "output_type": "stream",
     "text": [
      "Ratio of nonzero elements in embedding matrix : 0.9524752475247524 This means 95.24752475247524 of the vocabulary is covered by the pretrained model, which is a good coverage of our vocabulary.\n"
     ]
    }
   ],
   "source": [
    "nonzero_elements = np.count_nonzero(np.count_nonzero(embedding_matrix, axis=1))\n",
    "print('Ratio of nonzero elements in embedding matrix : %s'%(nonzero_elements / vocab_size), 'This means %s of the vocabulary is covered by the pretrained model, which is a good coverage of our vocabulary.'%(nonzero_elements*100 / vocab_size))\n"
   ]
  },
  {
   "cell_type": "markdown",
   "metadata": {},
   "source": [
    "### 10. Neural Network without training of embedding matrix \n",
    "Glove word vector is used directly without any training"
   ]
  },
  {
   "cell_type": "code",
   "execution_count": 148,
   "metadata": {
    "scrolled": true
   },
   "outputs": [
    {
     "name": "stdout",
     "output_type": "stream",
     "text": [
      "_________________________________________________________________\n",
      "Layer (type)                 Output Shape              Param #   \n",
      "=================================================================\n",
      "embedding_6 (Embedding)      (None, 100, 50)           25250     \n",
      "_________________________________________________________________\n",
      "global_max_pooling1d_1 (Glob (None, 50)                0         \n",
      "_________________________________________________________________\n",
      "dense_13 (Dense)             (None, 35)                1785      \n",
      "_________________________________________________________________\n",
      "dense_14 (Dense)             (None, 30)                1080      \n",
      "=================================================================\n",
      "Total params: 28,115\n",
      "Trainable params: 2,865\n",
      "Non-trainable params: 25,250\n",
      "_________________________________________________________________\n",
      "Train on 375 samples, validate on 125 samples\n",
      "Epoch 1/200\n",
      "375/375 [==============================] - 1s 2ms/step - loss: 2.9812 - acc: 0.1307 - val_loss: 2.3159 - val_acc: 0.2480\n",
      "Epoch 2/200\n",
      "375/375 [==============================] - 0s 207us/step - loss: 1.8499 - acc: 0.2400 - val_loss: 1.5003 - val_acc: 0.3120\n",
      "Epoch 3/200\n",
      "375/375 [==============================] - 0s 191us/step - loss: 1.4239 - acc: 0.2240 - val_loss: 1.3858 - val_acc: 0.2320\n",
      "Epoch 4/200\n",
      "375/375 [==============================] - 0s 162us/step - loss: 1.3734 - acc: 0.2133 - val_loss: 1.3546 - val_acc: 0.2320\n",
      "Epoch 5/200\n",
      "375/375 [==============================] - 0s 173us/step - loss: 1.3518 - acc: 0.2187 - val_loss: 1.3314 - val_acc: 0.2320\n",
      "Epoch 6/200\n",
      "375/375 [==============================] - 0s 205us/step - loss: 1.3315 - acc: 0.2160 - val_loss: 1.3089 - val_acc: 0.2560\n",
      "Epoch 7/200\n",
      "375/375 [==============================] - 0s 157us/step - loss: 1.3070 - acc: 0.2373 - val_loss: 1.2863 - val_acc: 0.3200\n",
      "Epoch 8/200\n",
      "375/375 [==============================] - 0s 178us/step - loss: 1.2836 - acc: 0.3280 - val_loss: 1.2638 - val_acc: 0.4800\n",
      "Epoch 9/200\n",
      "375/375 [==============================] - 0s 189us/step - loss: 1.2611 - acc: 0.4160 - val_loss: 1.2430 - val_acc: 0.4160\n",
      "Epoch 10/200\n",
      "375/375 [==============================] - 0s 157us/step - loss: 1.2362 - acc: 0.3947 - val_loss: 1.1797 - val_acc: 0.4160\n",
      "Epoch 11/200\n",
      "375/375 [==============================] - 0s 178us/step - loss: 1.1458 - acc: 0.3947 - val_loss: 1.0932 - val_acc: 0.4160\n",
      "Epoch 12/200\n",
      "375/375 [==============================] - 0s 186us/step - loss: 1.0871 - acc: 0.3947 - val_loss: 1.0317 - val_acc: 0.4160\n",
      "Epoch 13/200\n",
      "375/375 [==============================] - 0s 160us/step - loss: 1.0433 - acc: 0.3947 - val_loss: 1.0034 - val_acc: 0.4160\n",
      "Epoch 14/200\n",
      "375/375 [==============================] - 0s 186us/step - loss: 1.0013 - acc: 0.3947 - val_loss: 0.9613 - val_acc: 0.4160\n",
      "Epoch 15/200\n",
      "375/375 [==============================] - 0s 165us/step - loss: 0.9522 - acc: 0.4213 - val_loss: 0.8451 - val_acc: 0.6720\n",
      "Epoch 16/200\n",
      "375/375 [==============================] - 0s 157us/step - loss: 0.7507 - acc: 0.7680 - val_loss: 0.6330 - val_acc: 0.8240\n",
      "Epoch 17/200\n",
      "375/375 [==============================] - 0s 157us/step - loss: 0.5864 - acc: 0.8347 - val_loss: 0.5814 - val_acc: 0.8960\n",
      "Epoch 18/200\n",
      "375/375 [==============================] - 0s 181us/step - loss: 0.5219 - acc: 0.8507 - val_loss: 0.5015 - val_acc: 0.9040\n",
      "Epoch 19/200\n",
      "375/375 [==============================] - 0s 160us/step - loss: 0.4757 - acc: 0.8587 - val_loss: 0.4524 - val_acc: 0.8560\n",
      "Epoch 20/200\n",
      "375/375 [==============================] - 0s 154us/step - loss: 0.4229 - acc: 0.8933 - val_loss: 0.4207 - val_acc: 0.9040\n",
      "Epoch 21/200\n",
      "375/375 [==============================] - 0s 154us/step - loss: 0.3917 - acc: 0.8960 - val_loss: 0.3990 - val_acc: 0.8480\n",
      "Epoch 22/200\n",
      "375/375 [==============================] - 0s 181us/step - loss: 0.3615 - acc: 0.9013 - val_loss: 0.4051 - val_acc: 0.8480\n",
      "Epoch 23/200\n",
      "375/375 [==============================] - 0s 157us/step - loss: 0.3458 - acc: 0.8960 - val_loss: 0.3509 - val_acc: 0.8880\n",
      "Epoch 24/200\n",
      "375/375 [==============================] - 0s 181us/step - loss: 0.3282 - acc: 0.8933 - val_loss: 0.3949 - val_acc: 0.8560\n",
      "Epoch 25/200\n",
      "375/375 [==============================] - 0s 186us/step - loss: 0.3349 - acc: 0.8960 - val_loss: 0.3372 - val_acc: 0.8880\n",
      "Epoch 26/200\n",
      "375/375 [==============================] - 0s 165us/step - loss: 0.2990 - acc: 0.9040 - val_loss: 0.3219 - val_acc: 0.8800\n",
      "Epoch 27/200\n",
      "375/375 [==============================] - 0s 154us/step - loss: 0.2953 - acc: 0.9013 - val_loss: 0.3085 - val_acc: 0.9120\n",
      "Epoch 28/200\n",
      "375/375 [==============================] - 0s 160us/step - loss: 0.2947 - acc: 0.8960 - val_loss: 0.3321 - val_acc: 0.9040\n",
      "Epoch 29/200\n",
      "375/375 [==============================] - 0s 154us/step - loss: 0.2797 - acc: 0.9040 - val_loss: 0.2895 - val_acc: 0.9040\n",
      "Epoch 30/200\n",
      "375/375 [==============================] - 0s 189us/step - loss: 0.2634 - acc: 0.9173 - val_loss: 0.2900 - val_acc: 0.9120\n",
      "Epoch 31/200\n",
      "375/375 [==============================] - 0s 160us/step - loss: 0.2574 - acc: 0.9173 - val_loss: 0.2949 - val_acc: 0.9120\n",
      "Epoch 32/200\n",
      "375/375 [==============================] - 0s 176us/step - loss: 0.2500 - acc: 0.9253 - val_loss: 0.2692 - val_acc: 0.9120\n",
      "Epoch 33/200\n",
      "375/375 [==============================] - 0s 184us/step - loss: 0.2449 - acc: 0.9227 - val_loss: 0.2613 - val_acc: 0.9120\n",
      "Epoch 34/200\n",
      "375/375 [==============================] - 0s 162us/step - loss: 0.2320 - acc: 0.9227 - val_loss: 0.2612 - val_acc: 0.9120\n",
      "Epoch 35/200\n",
      "375/375 [==============================] - 0s 176us/step - loss: 0.2396 - acc: 0.9067 - val_loss: 0.2584 - val_acc: 0.9120\n",
      "Epoch 36/200\n",
      "375/375 [==============================] - 0s 162us/step - loss: 0.2261 - acc: 0.9413 - val_loss: 0.2458 - val_acc: 0.9280\n",
      "Epoch 37/200\n",
      "375/375 [==============================] - 0s 199us/step - loss: 0.2265 - acc: 0.9333 - val_loss: 0.2419 - val_acc: 0.9360\n",
      "Epoch 38/200\n",
      "375/375 [==============================] - 0s 207us/step - loss: 0.2165 - acc: 0.9280 - val_loss: 0.2489 - val_acc: 0.9120\n",
      "Epoch 39/200\n",
      "375/375 [==============================] - 0s 181us/step - loss: 0.2239 - acc: 0.9280 - val_loss: 0.2425 - val_acc: 0.9200\n",
      "Epoch 40/200\n",
      "375/375 [==============================] - 0s 194us/step - loss: 0.2115 - acc: 0.9280 - val_loss: 0.2315 - val_acc: 0.9280\n",
      "Epoch 41/200\n",
      "375/375 [==============================] - 0s 189us/step - loss: 0.2060 - acc: 0.9307 - val_loss: 0.2285 - val_acc: 0.9200\n",
      "Epoch 42/200\n",
      "375/375 [==============================] - 0s 213us/step - loss: 0.2083 - acc: 0.9307 - val_loss: 0.2492 - val_acc: 0.9120\n",
      "Epoch 43/200\n",
      "375/375 [==============================] - 0s 186us/step - loss: 0.1944 - acc: 0.9387 - val_loss: 0.2284 - val_acc: 0.9200\n",
      "Epoch 44/200\n",
      "375/375 [==============================] - 0s 215us/step - loss: 0.1997 - acc: 0.9227 - val_loss: 0.2390 - val_acc: 0.9200\n",
      "Epoch 45/200\n",
      "375/375 [==============================] - 0s 181us/step - loss: 0.1956 - acc: 0.9360 - val_loss: 0.2185 - val_acc: 0.9200\n",
      "Epoch 46/200\n",
      "375/375 [==============================] - 0s 210us/step - loss: 0.1896 - acc: 0.9360 - val_loss: 0.2251 - val_acc: 0.9200\n",
      "Epoch 47/200\n",
      "375/375 [==============================] - 0s 181us/step - loss: 0.1910 - acc: 0.9253 - val_loss: 0.2684 - val_acc: 0.8960\n",
      "Epoch 48/200\n",
      "375/375 [==============================] - 0s 213us/step - loss: 0.1880 - acc: 0.9467 - val_loss: 0.2112 - val_acc: 0.9200\n",
      "Epoch 49/200\n",
      "375/375 [==============================] - 0s 181us/step - loss: 0.1885 - acc: 0.9307 - val_loss: 0.2123 - val_acc: 0.9200\n",
      "Epoch 50/200\n",
      "375/375 [==============================] - 0s 178us/step - loss: 0.1865 - acc: 0.9467 - val_loss: 0.2147 - val_acc: 0.9120\n",
      "Epoch 51/200\n",
      "375/375 [==============================] - 0s 202us/step - loss: 0.1769 - acc: 0.9333 - val_loss: 0.2048 - val_acc: 0.9280\n",
      "Epoch 52/200\n",
      "375/375 [==============================] - 0s 197us/step - loss: 0.1803 - acc: 0.9440 - val_loss: 0.1974 - val_acc: 0.9280\n",
      "Epoch 53/200\n",
      "375/375 [==============================] - 0s 218us/step - loss: 0.1845 - acc: 0.9413 - val_loss: 0.2141 - val_acc: 0.8960\n",
      "Epoch 54/200\n",
      "375/375 [==============================] - 0s 215us/step - loss: 0.1861 - acc: 0.9227 - val_loss: 0.2022 - val_acc: 0.9120\n",
      "Epoch 55/200\n",
      "375/375 [==============================] - 0s 218us/step - loss: 0.1739 - acc: 0.9440 - val_loss: 0.1928 - val_acc: 0.9360\n",
      "Epoch 56/200\n",
      "375/375 [==============================] - 0s 199us/step - loss: 0.1672 - acc: 0.9387 - val_loss: 0.1960 - val_acc: 0.9200\n",
      "Epoch 57/200\n",
      "375/375 [==============================] - 0s 207us/step - loss: 0.1645 - acc: 0.9493 - val_loss: 0.2202 - val_acc: 0.9280\n",
      "Epoch 58/200\n",
      "375/375 [==============================] - 0s 277us/step - loss: 0.1655 - acc: 0.9440 - val_loss: 0.1902 - val_acc: 0.9280\n",
      "Epoch 59/200\n",
      "375/375 [==============================] - 0s 255us/step - loss: 0.1641 - acc: 0.9440 - val_loss: 0.1852 - val_acc: 0.9360\n",
      "Epoch 60/200\n",
      "375/375 [==============================] - 0s 202us/step - loss: 0.1618 - acc: 0.9440 - val_loss: 0.1858 - val_acc: 0.9280\n",
      "Epoch 61/200\n",
      "375/375 [==============================] - 0s 215us/step - loss: 0.1596 - acc: 0.9573 - val_loss: 0.1978 - val_acc: 0.9040\n",
      "Epoch 62/200\n",
      "375/375 [==============================] - 0s 194us/step - loss: 0.1511 - acc: 0.9547 - val_loss: 0.2097 - val_acc: 0.9200\n",
      "Epoch 63/200\n",
      "375/375 [==============================] - 0s 202us/step - loss: 0.1531 - acc: 0.9440 - val_loss: 0.2005 - val_acc: 0.9040\n",
      "Epoch 64/200\n",
      "375/375 [==============================] - 0s 213us/step - loss: 0.1511 - acc: 0.9440 - val_loss: 0.1784 - val_acc: 0.9360\n",
      "Epoch 65/200\n",
      "375/375 [==============================] - ETA: 0s - loss: 0.1509 - acc: 0.929 - 0s 261us/step - loss: 0.1488 - acc: 0.9440 - val_loss: 0.1822 - val_acc: 0.9280\n",
      "Epoch 66/200\n",
      "375/375 [==============================] - 0s 245us/step - loss: 0.1453 - acc: 0.9547 - val_loss: 0.1846 - val_acc: 0.9440\n",
      "Epoch 67/200\n",
      "375/375 [==============================] - 0s 202us/step - loss: 0.1426 - acc: 0.9547 - val_loss: 0.1755 - val_acc: 0.9360\n",
      "Epoch 68/200\n",
      "375/375 [==============================] - 0s 202us/step - loss: 0.1432 - acc: 0.9493 - val_loss: 0.1858 - val_acc: 0.9040\n",
      "Epoch 69/200\n",
      "375/375 [==============================] - 0s 189us/step - loss: 0.1432 - acc: 0.9573 - val_loss: 0.1761 - val_acc: 0.9200\n",
      "Epoch 70/200\n",
      "375/375 [==============================] - 0s 205us/step - loss: 0.1662 - acc: 0.9307 - val_loss: 0.1732 - val_acc: 0.9360\n",
      "Epoch 71/200\n",
      "375/375 [==============================] - 0s 184us/step - loss: 0.1500 - acc: 0.9520 - val_loss: 0.2023 - val_acc: 0.9200\n",
      "Epoch 72/200\n",
      "375/375 [==============================] - 0s 213us/step - loss: 0.1487 - acc: 0.9493 - val_loss: 0.1825 - val_acc: 0.9280\n",
      "Epoch 73/200\n",
      "375/375 [==============================] - 0s 194us/step - loss: 0.1376 - acc: 0.9520 - val_loss: 0.1693 - val_acc: 0.9200\n",
      "Epoch 74/200\n",
      "375/375 [==============================] - 0s 194us/step - loss: 0.1357 - acc: 0.9520 - val_loss: 0.1699 - val_acc: 0.9200\n",
      "Epoch 75/200\n",
      "375/375 [==============================] - 0s 215us/step - loss: 0.1428 - acc: 0.9547 - val_loss: 0.1630 - val_acc: 0.9280\n",
      "Epoch 76/200\n",
      "375/375 [==============================] - 0s 194us/step - loss: 0.1350 - acc: 0.9467 - val_loss: 0.1605 - val_acc: 0.9200\n",
      "Epoch 77/200\n",
      "375/375 [==============================] - 0s 194us/step - loss: 0.1274 - acc: 0.9680 - val_loss: 0.1699 - val_acc: 0.9360\n",
      "Epoch 78/200\n",
      "375/375 [==============================] - 0s 215us/step - loss: 0.1262 - acc: 0.9573 - val_loss: 0.1850 - val_acc: 0.9200\n",
      "Epoch 79/200\n",
      "375/375 [==============================] - 0s 186us/step - loss: 0.1376 - acc: 0.9627 - val_loss: 0.1620 - val_acc: 0.9280\n",
      "Epoch 80/200\n",
      "375/375 [==============================] - 0s 189us/step - loss: 0.1331 - acc: 0.9547 - val_loss: 0.1742 - val_acc: 0.9440\n",
      "Epoch 81/200\n",
      "375/375 [==============================] - 0s 215us/step - loss: 0.1219 - acc: 0.9653 - val_loss: 0.1627 - val_acc: 0.9360\n",
      "Epoch 82/200\n",
      "375/375 [==============================] - 0s 210us/step - loss: 0.1186 - acc: 0.9733 - val_loss: 0.1701 - val_acc: 0.9200\n",
      "Epoch 83/200\n",
      "375/375 [==============================] - 0s 218us/step - loss: 0.1292 - acc: 0.9547 - val_loss: 0.1621 - val_acc: 0.9280\n",
      "Epoch 84/200\n",
      "375/375 [==============================] - 0s 189us/step - loss: 0.1241 - acc: 0.9573 - val_loss: 0.1647 - val_acc: 0.9360\n",
      "Epoch 85/200\n",
      "375/375 [==============================] - 0s 205us/step - loss: 0.1248 - acc: 0.9627 - val_loss: 0.1500 - val_acc: 0.9360\n",
      "Epoch 86/200\n",
      "375/375 [==============================] - 0s 184us/step - loss: 0.1384 - acc: 0.9467 - val_loss: 0.1531 - val_acc: 0.9360\n",
      "Epoch 87/200\n",
      "375/375 [==============================] - 0s 205us/step - loss: 0.1215 - acc: 0.9600 - val_loss: 0.1532 - val_acc: 0.9280\n",
      "Epoch 88/200\n",
      "375/375 [==============================] - 0s 199us/step - loss: 0.1164 - acc: 0.9680 - val_loss: 0.1522 - val_acc: 0.9360\n",
      "Epoch 89/200\n",
      "375/375 [==============================] - 0s 210us/step - loss: 0.1266 - acc: 0.9520 - val_loss: 0.1500 - val_acc: 0.9440\n",
      "Epoch 90/200\n",
      "375/375 [==============================] - 0s 181us/step - loss: 0.1180 - acc: 0.9627 - val_loss: 0.1507 - val_acc: 0.9280\n",
      "Epoch 91/200\n",
      "375/375 [==============================] - 0s 191us/step - loss: 0.1141 - acc: 0.9627 - val_loss: 0.1646 - val_acc: 0.9360\n",
      "Epoch 92/200\n",
      "375/375 [==============================] - 0s 199us/step - loss: 0.1231 - acc: 0.9573 - val_loss: 0.1679 - val_acc: 0.9360\n",
      "Epoch 93/200\n",
      "375/375 [==============================] - 0s 231us/step - loss: 0.1146 - acc: 0.9680 - val_loss: 0.1476 - val_acc: 0.9280\n",
      "Epoch 94/200\n",
      "375/375 [==============================] - 0s 202us/step - loss: 0.1183 - acc: 0.9653 - val_loss: 0.1447 - val_acc: 0.9440\n",
      "Epoch 95/200\n",
      "375/375 [==============================] - 0s 229us/step - loss: 0.1198 - acc: 0.9600 - val_loss: 0.1641 - val_acc: 0.9440\n",
      "Epoch 96/200\n",
      "375/375 [==============================] - 0s 207us/step - loss: 0.1074 - acc: 0.9680 - val_loss: 0.1483 - val_acc: 0.9360\n",
      "Epoch 97/200\n",
      "375/375 [==============================] - 0s 191us/step - loss: 0.1056 - acc: 0.9680 - val_loss: 0.1469 - val_acc: 0.9360\n",
      "Epoch 98/200\n",
      "375/375 [==============================] - 0s 191us/step - loss: 0.1146 - acc: 0.9547 - val_loss: 0.1452 - val_acc: 0.9360\n",
      "Epoch 99/200\n",
      "375/375 [==============================] - 0s 191us/step - loss: 0.1081 - acc: 0.9573 - val_loss: 0.1742 - val_acc: 0.9360\n",
      "Epoch 100/200\n",
      "375/375 [==============================] - 0s 202us/step - loss: 0.1152 - acc: 0.9600 - val_loss: 0.1499 - val_acc: 0.9440\n",
      "Epoch 101/200\n",
      "375/375 [==============================] - 0s 199us/step - loss: 0.1114 - acc: 0.9627 - val_loss: 0.1486 - val_acc: 0.9360\n",
      "Epoch 102/200\n",
      "375/375 [==============================] - 0s 186us/step - loss: 0.1049 - acc: 0.9680 - val_loss: 0.1402 - val_acc: 0.9360\n",
      "Epoch 103/200\n",
      "375/375 [==============================] - 0s 189us/step - loss: 0.1030 - acc: 0.9653 - val_loss: 0.1530 - val_acc: 0.9440\n",
      "Epoch 104/200\n",
      "375/375 [==============================] - 0s 191us/step - loss: 0.1035 - acc: 0.9653 - val_loss: 0.1358 - val_acc: 0.9360\n",
      "Epoch 105/200\n",
      "375/375 [==============================] - 0s 202us/step - loss: 0.0981 - acc: 0.9733 - val_loss: 0.1457 - val_acc: 0.9360\n",
      "Epoch 106/200\n",
      "375/375 [==============================] - 0s 218us/step - loss: 0.1079 - acc: 0.9680 - val_loss: 0.1393 - val_acc: 0.9360\n",
      "Epoch 107/200\n",
      "375/375 [==============================] - 0s 210us/step - loss: 0.1028 - acc: 0.9733 - val_loss: 0.1546 - val_acc: 0.9440\n",
      "Epoch 108/200\n",
      "375/375 [==============================] - 0s 218us/step - loss: 0.0992 - acc: 0.9707 - val_loss: 0.1376 - val_acc: 0.9360\n",
      "Epoch 109/200\n",
      "375/375 [==============================] - 0s 205us/step - loss: 0.0952 - acc: 0.9707 - val_loss: 0.1343 - val_acc: 0.9360\n",
      "Epoch 110/200\n",
      "375/375 [==============================] - 0s 197us/step - loss: 0.1111 - acc: 0.9627 - val_loss: 0.1666 - val_acc: 0.9440\n",
      "Epoch 111/200\n",
      "375/375 [==============================] - 0s 215us/step - loss: 0.1049 - acc: 0.9627 - val_loss: 0.1356 - val_acc: 0.9360\n",
      "Epoch 112/200\n",
      "375/375 [==============================] - 0s 189us/step - loss: 0.1003 - acc: 0.9680 - val_loss: 0.1302 - val_acc: 0.9280\n",
      "Epoch 113/200\n",
      "375/375 [==============================] - 0s 210us/step - loss: 0.0937 - acc: 0.9653 - val_loss: 0.1407 - val_acc: 0.9360\n"
     ]
    },
    {
     "name": "stdout",
     "output_type": "stream",
     "text": [
      "Epoch 114/200\n",
      "375/375 [==============================] - 0s 223us/step - loss: 0.0984 - acc: 0.9733 - val_loss: 0.1301 - val_acc: 0.9360\n",
      "Epoch 115/200\n",
      "375/375 [==============================] - 0s 229us/step - loss: 0.0950 - acc: 0.9627 - val_loss: 0.1283 - val_acc: 0.9280\n",
      "Epoch 116/200\n",
      "375/375 [==============================] - 0s 197us/step - loss: 0.0926 - acc: 0.9653 - val_loss: 0.1484 - val_acc: 0.9440\n",
      "Epoch 117/200\n",
      "375/375 [==============================] - 0s 197us/step - loss: 0.0946 - acc: 0.9707 - val_loss: 0.1303 - val_acc: 0.9360\n",
      "Epoch 118/200\n",
      "375/375 [==============================] - 0s 210us/step - loss: 0.0917 - acc: 0.9653 - val_loss: 0.1391 - val_acc: 0.9360\n",
      "Epoch 119/200\n",
      "375/375 [==============================] - 0s 210us/step - loss: 0.0955 - acc: 0.9627 - val_loss: 0.1264 - val_acc: 0.9360\n",
      "Epoch 120/200\n",
      "375/375 [==============================] - 0s 202us/step - loss: 0.0938 - acc: 0.9680 - val_loss: 0.1297 - val_acc: 0.9360\n",
      "Epoch 121/200\n",
      "375/375 [==============================] - 0s 205us/step - loss: 0.0949 - acc: 0.9707 - val_loss: 0.1786 - val_acc: 0.9280\n",
      "Epoch 122/200\n",
      "375/375 [==============================] - 0s 202us/step - loss: 0.1091 - acc: 0.9627 - val_loss: 0.1268 - val_acc: 0.9360\n",
      "Epoch 123/200\n",
      "375/375 [==============================] - 0s 239us/step - loss: 0.0942 - acc: 0.9707 - val_loss: 0.1247 - val_acc: 0.9440\n",
      "Epoch 124/200\n",
      "375/375 [==============================] - 0s 237us/step - loss: 0.0936 - acc: 0.9680 - val_loss: 0.1363 - val_acc: 0.9360\n",
      "Epoch 125/200\n",
      "375/375 [==============================] - 0s 231us/step - loss: 0.0882 - acc: 0.9760 - val_loss: 0.1688 - val_acc: 0.9360\n",
      "Epoch 126/200\n",
      "375/375 [==============================] - 0s 223us/step - loss: 0.0874 - acc: 0.9707 - val_loss: 0.1453 - val_acc: 0.9440\n",
      "Epoch 127/200\n",
      "375/375 [==============================] - 0s 197us/step - loss: 0.0924 - acc: 0.9680 - val_loss: 0.1442 - val_acc: 0.9520\n",
      "Epoch 128/200\n",
      "375/375 [==============================] - 0s 213us/step - loss: 0.0931 - acc: 0.9733 - val_loss: 0.1368 - val_acc: 0.9360\n",
      "Epoch 129/200\n",
      "375/375 [==============================] - 0s 237us/step - loss: 0.0801 - acc: 0.9813 - val_loss: 0.1697 - val_acc: 0.9280\n",
      "Epoch 130/200\n",
      "375/375 [==============================] - 0s 207us/step - loss: 0.0896 - acc: 0.9653 - val_loss: 0.1230 - val_acc: 0.9360\n",
      "Epoch 131/200\n",
      "375/375 [==============================] - 0s 207us/step - loss: 0.0956 - acc: 0.9573 - val_loss: 0.1252 - val_acc: 0.9360\n",
      "Epoch 132/200\n",
      "375/375 [==============================] - 0s 213us/step - loss: 0.0836 - acc: 0.9707 - val_loss: 0.1343 - val_acc: 0.9440\n",
      "Epoch 133/200\n",
      "375/375 [==============================] - 0s 215us/step - loss: 0.0874 - acc: 0.9733 - val_loss: 0.1389 - val_acc: 0.9440\n",
      "Epoch 134/200\n",
      "375/375 [==============================] - 0s 231us/step - loss: 0.0816 - acc: 0.9680 - val_loss: 0.1295 - val_acc: 0.9360\n",
      "Epoch 135/200\n",
      "375/375 [==============================] - 0s 207us/step - loss: 0.0805 - acc: 0.9733 - val_loss: 0.1432 - val_acc: 0.9360\n",
      "Epoch 136/200\n",
      "375/375 [==============================] - 0s 191us/step - loss: 0.0838 - acc: 0.9707 - val_loss: 0.1222 - val_acc: 0.9360\n",
      "Epoch 137/200\n",
      "375/375 [==============================] - 0s 229us/step - loss: 0.0837 - acc: 0.9733 - val_loss: 0.1329 - val_acc: 0.9360\n",
      "Epoch 138/200\n",
      "375/375 [==============================] - 0s 191us/step - loss: 0.0916 - acc: 0.9787 - val_loss: 0.1205 - val_acc: 0.9360\n",
      "Epoch 139/200\n",
      "375/375 [==============================] - 0s 223us/step - loss: 0.0817 - acc: 0.9680 - val_loss: 0.1259 - val_acc: 0.9520\n",
      "Epoch 140/200\n",
      "375/375 [==============================] - 0s 189us/step - loss: 0.0889 - acc: 0.9733 - val_loss: 0.1406 - val_acc: 0.9360\n",
      "Epoch 141/200\n",
      "375/375 [==============================] - 0s 197us/step - loss: 0.0788 - acc: 0.9787 - val_loss: 0.1471 - val_acc: 0.9440\n",
      "Epoch 142/200\n",
      "375/375 [==============================] - 0s 197us/step - loss: 0.0862 - acc: 0.9680 - val_loss: 0.1418 - val_acc: 0.9440\n",
      "Epoch 143/200\n",
      "375/375 [==============================] - 0s 197us/step - loss: 0.0794 - acc: 0.9787 - val_loss: 0.1467 - val_acc: 0.9440\n",
      "Epoch 144/200\n",
      "375/375 [==============================] - 0s 226us/step - loss: 0.0786 - acc: 0.9760 - val_loss: 0.1341 - val_acc: 0.9440\n",
      "Epoch 145/200\n",
      "375/375 [==============================] - 0s 199us/step - loss: 0.0815 - acc: 0.9760 - val_loss: 0.1188 - val_acc: 0.9440\n",
      "Epoch 146/200\n",
      "375/375 [==============================] - 0s 229us/step - loss: 0.0942 - acc: 0.9680 - val_loss: 0.1359 - val_acc: 0.9440\n",
      "Epoch 147/200\n",
      "375/375 [==============================] - 0s 197us/step - loss: 0.0871 - acc: 0.9733 - val_loss: 0.1520 - val_acc: 0.9440\n",
      "Epoch 148/200\n",
      "375/375 [==============================] - 0s 194us/step - loss: 0.0762 - acc: 0.9733 - val_loss: 0.1390 - val_acc: 0.9440\n",
      "Epoch 149/200\n",
      "375/375 [==============================] - 0s 210us/step - loss: 0.0752 - acc: 0.9813 - val_loss: 0.1425 - val_acc: 0.9440\n",
      "Epoch 150/200\n",
      "375/375 [==============================] - 0s 205us/step - loss: 0.0813 - acc: 0.9813 - val_loss: 0.1437 - val_acc: 0.9440\n",
      "Epoch 151/200\n",
      "375/375 [==============================] - 0s 202us/step - loss: 0.0772 - acc: 0.9680 - val_loss: 0.1258 - val_acc: 0.9440\n",
      "Epoch 152/200\n",
      "375/375 [==============================] - 0s 215us/step - loss: 0.0827 - acc: 0.9760 - val_loss: 0.1534 - val_acc: 0.9440\n",
      "Epoch 153/200\n",
      "375/375 [==============================] - 0s 202us/step - loss: 0.0707 - acc: 0.9760 - val_loss: 0.1235 - val_acc: 0.9440\n",
      "Epoch 154/200\n",
      "375/375 [==============================] - 0s 199us/step - loss: 0.0731 - acc: 0.9733 - val_loss: 0.1266 - val_acc: 0.9360\n",
      "Epoch 155/200\n",
      "375/375 [==============================] - 0s 194us/step - loss: 0.0805 - acc: 0.9707 - val_loss: 0.1568 - val_acc: 0.9440\n",
      "Epoch 156/200\n",
      "375/375 [==============================] - 0s 213us/step - loss: 0.0911 - acc: 0.9707 - val_loss: 0.1192 - val_acc: 0.9440\n",
      "Epoch 157/200\n",
      "375/375 [==============================] - 0s 194us/step - loss: 0.0780 - acc: 0.9707 - val_loss: 0.1194 - val_acc: 0.9440\n",
      "Epoch 158/200\n",
      "375/375 [==============================] - 0s 221us/step - loss: 0.0759 - acc: 0.9867 - val_loss: 0.1357 - val_acc: 0.9360\n",
      "Epoch 159/200\n",
      "375/375 [==============================] - 0s 231us/step - loss: 0.0687 - acc: 0.9733 - val_loss: 0.1278 - val_acc: 0.9440\n",
      "Epoch 160/200\n",
      "375/375 [==============================] - 0s 250us/step - loss: 0.0697 - acc: 0.9813 - val_loss: 0.1266 - val_acc: 0.9360\n",
      "Epoch 161/200\n",
      "375/375 [==============================] - 0s 258us/step - loss: 0.0733 - acc: 0.9813 - val_loss: 0.1148 - val_acc: 0.9440\n",
      "Epoch 162/200\n",
      "375/375 [==============================] - 0s 221us/step - loss: 0.0780 - acc: 0.9680 - val_loss: 0.1349 - val_acc: 0.9360\n",
      "Epoch 163/200\n",
      "375/375 [==============================] - 0s 229us/step - loss: 0.0700 - acc: 0.9813 - val_loss: 0.1449 - val_acc: 0.9440\n",
      "Epoch 164/200\n",
      "375/375 [==============================] - 0s 231us/step - loss: 0.0753 - acc: 0.9600 - val_loss: 0.1185 - val_acc: 0.9440\n",
      "Epoch 165/200\n",
      "375/375 [==============================] - 0s 210us/step - loss: 0.0685 - acc: 0.9760 - val_loss: 0.1370 - val_acc: 0.9440\n",
      "Epoch 166/200\n",
      "375/375 [==============================] - 0s 202us/step - loss: 0.0731 - acc: 0.9733 - val_loss: 0.1160 - val_acc: 0.9440\n",
      "Epoch 167/200\n",
      "375/375 [==============================] - 0s 223us/step - loss: 0.0758 - acc: 0.9787 - val_loss: 0.1301 - val_acc: 0.9360\n",
      "Epoch 168/200\n",
      "375/375 [==============================] - ETA: 0s - loss: 0.0549 - acc: 0.986 - 0s 226us/step - loss: 0.0669 - acc: 0.9787 - val_loss: 0.1187 - val_acc: 0.9440\n",
      "Epoch 169/200\n",
      "375/375 [==============================] - 0s 242us/step - loss: 0.0645 - acc: 0.9733 - val_loss: 0.1229 - val_acc: 0.9360\n",
      "Epoch 170/200\n",
      "375/375 [==============================] - 0s 234us/step - loss: 0.0662 - acc: 0.9813 - val_loss: 0.1169 - val_acc: 0.9360\n",
      "Epoch 171/200\n",
      "375/375 [==============================] - 0s 247us/step - loss: 0.0662 - acc: 0.9733 - val_loss: 0.1258 - val_acc: 0.9360\n",
      "Epoch 172/200\n",
      "375/375 [==============================] - 0s 229us/step - loss: 0.0767 - acc: 0.9733 - val_loss: 0.1143 - val_acc: 0.9440\n",
      "Epoch 173/200\n",
      "375/375 [==============================] - 0s 223us/step - loss: 0.0730 - acc: 0.9760 - val_loss: 0.1507 - val_acc: 0.9440\n",
      "Epoch 174/200\n",
      "375/375 [==============================] - 0s 194us/step - loss: 0.0701 - acc: 0.9733 - val_loss: 0.1380 - val_acc: 0.9360\n",
      "Epoch 175/200\n",
      "375/375 [==============================] - 0s 207us/step - loss: 0.0678 - acc: 0.9813 - val_loss: 0.1368 - val_acc: 0.9360\n",
      "Epoch 176/200\n",
      "375/375 [==============================] - 0s 213us/step - loss: 0.0659 - acc: 0.9760 - val_loss: 0.1152 - val_acc: 0.9440\n",
      "Epoch 177/200\n",
      "375/375 [==============================] - 0s 197us/step - loss: 0.0737 - acc: 0.9787 - val_loss: 0.1191 - val_acc: 0.9440\n",
      "Epoch 178/200\n",
      "375/375 [==============================] - 0s 202us/step - loss: 0.0656 - acc: 0.9813 - val_loss: 0.1135 - val_acc: 0.9360\n",
      "Epoch 179/200\n",
      "375/375 [==============================] - 0s 197us/step - loss: 0.0610 - acc: 0.9840 - val_loss: 0.1275 - val_acc: 0.9360\n",
      "Epoch 180/200\n",
      "375/375 [==============================] - 0s 178us/step - loss: 0.0618 - acc: 0.9813 - val_loss: 0.1273 - val_acc: 0.9360\n",
      "Epoch 181/200\n",
      "375/375 [==============================] - 0s 189us/step - loss: 0.0628 - acc: 0.9787 - val_loss: 0.1534 - val_acc: 0.9440\n",
      "Epoch 182/200\n",
      "375/375 [==============================] - 0s 223us/step - loss: 0.0651 - acc: 0.9893 - val_loss: 0.1423 - val_acc: 0.9280\n",
      "Epoch 183/200\n",
      "375/375 [==============================] - 0s 199us/step - loss: 0.0635 - acc: 0.9840 - val_loss: 0.1114 - val_acc: 0.9440\n",
      "Epoch 184/200\n",
      "375/375 [==============================] - 0s 205us/step - loss: 0.0624 - acc: 0.9840 - val_loss: 0.1143 - val_acc: 0.9440\n",
      "Epoch 185/200\n",
      "375/375 [==============================] - 0s 231us/step - loss: 0.0674 - acc: 0.9680 - val_loss: 0.1274 - val_acc: 0.9360\n",
      "Epoch 186/200\n",
      "375/375 [==============================] - 0s 194us/step - loss: 0.0606 - acc: 0.9787 - val_loss: 0.1145 - val_acc: 0.9440\n",
      "Epoch 187/200\n",
      "375/375 [==============================] - 0s 191us/step - loss: 0.0645 - acc: 0.9733 - val_loss: 0.1148 - val_acc: 0.9520\n",
      "Epoch 188/200\n",
      "375/375 [==============================] - 0s 226us/step - loss: 0.0774 - acc: 0.9707 - val_loss: 0.1183 - val_acc: 0.9360\n",
      "Epoch 189/200\n",
      "375/375 [==============================] - 0s 191us/step - loss: 0.0616 - acc: 0.9787 - val_loss: 0.1278 - val_acc: 0.9360\n",
      "Epoch 190/200\n",
      "375/375 [==============================] - 0s 202us/step - loss: 0.0615 - acc: 0.9787 - val_loss: 0.1242 - val_acc: 0.9360\n",
      "Epoch 191/200\n",
      "375/375 [==============================] - 0s 213us/step - loss: 0.0657 - acc: 0.9813 - val_loss: 0.1359 - val_acc: 0.9280\n",
      "Epoch 192/200\n",
      "375/375 [==============================] - 0s 213us/step - loss: 0.0618 - acc: 0.9840 - val_loss: 0.1218 - val_acc: 0.9360\n",
      "Epoch 193/200\n",
      "375/375 [==============================] - 0s 231us/step - loss: 0.0677 - acc: 0.9653 - val_loss: 0.1371 - val_acc: 0.9280\n",
      "Epoch 194/200\n",
      "375/375 [==============================] - 0s 202us/step - loss: 0.0771 - acc: 0.9787 - val_loss: 0.1192 - val_acc: 0.9360\n",
      "Epoch 195/200\n",
      "375/375 [==============================] - 0s 226us/step - loss: 0.0603 - acc: 0.9813 - val_loss: 0.1254 - val_acc: 0.9360\n",
      "Epoch 196/200\n",
      "375/375 [==============================] - 0s 223us/step - loss: 0.0590 - acc: 0.9813 - val_loss: 0.1235 - val_acc: 0.9360\n",
      "Epoch 197/200\n",
      "375/375 [==============================] - 0s 223us/step - loss: 0.0717 - acc: 0.9733 - val_loss: 0.1385 - val_acc: 0.9360\n",
      "Epoch 198/200\n",
      "375/375 [==============================] - 0s 223us/step - loss: 0.0698 - acc: 0.9760 - val_loss: 0.1150 - val_acc: 0.9360\n",
      "Epoch 199/200\n",
      "375/375 [==============================] - 0s 210us/step - loss: 0.0645 - acc: 0.9840 - val_loss: 0.1671 - val_acc: 0.9360\n",
      "Epoch 200/200\n",
      "375/375 [==============================] - 0s 239us/step - loss: 0.0624 - acc: 0.9813 - val_loss: 0.1450 - val_acc: 0.9440\n"
     ]
    }
   ],
   "source": [
    "model = Sequential()\n",
    "model.add(layers.Embedding(vocab_size, embedding_dim, \n",
    "                           weights=[embedding_matrix], \n",
    "                           input_length=maxlen, \n",
    "                           trainable=False))\n",
    "model.add(layers.GlobalMaxPool1D())\n",
    "model.add(layers.Dense(35, activation='relu'))\n",
    "model.add(layers.Dense(30, activation='sigmoid'))\n",
    "model.compile(optimizer='adam',\n",
    "              loss='categorical_crossentropy',\n",
    "              metrics=['accuracy'])\n",
    "model.summary()\n",
    "\n",
    "history = model.fit(X_train, y_train_hot,\n",
    "                    epochs=200,\n",
    "                    verbose=True,\n",
    "                    validation_data=(X_test, y_test_hot),\n",
    "                    batch_size=10)"
   ]
  },
  {
   "cell_type": "code",
   "execution_count": 150,
   "metadata": {},
   "outputs": [
    {
     "name": "stdout",
     "output_type": "stream",
     "text": [
      "Training Accuracy: 0.9787\n",
      "Testing Accuracy:  0.9440\n"
     ]
    }
   ],
   "source": [
    "loss, accuracy = model.evaluate(X_train, y_train_hot, verbose=False)\n",
    "print(\"Training Accuracy: {:.4f}\".format(accuracy))\n",
    "loss, accuracy = model.evaluate(X_test, y_test_hot, verbose=False)\n",
    "print(\"Testing Accuracy:  {:.4f}\".format(accuracy))"
   ]
  },
  {
   "cell_type": "code",
   "execution_count": 151,
   "metadata": {},
   "outputs": [
    {
     "data": {
      "image/png": "[encoded data removed]",
      "text/plain": [
       "<Figure size 864x360 with 2 Axes>"
      ]
     },
     "metadata": {},
     "output_type": "display_data"
    }
   ],
   "source": [
    "plot_history(history)\n"
   ]
  },
  {
   "cell_type": "markdown",
   "metadata": {},
   "source": [
    "### 11. Neural Network with training of embedding matrix\n",
    "Glove word vector is used with retraining with respect to currecnt dataset "
   ]
  },
  {
   "cell_type": "code",
   "execution_count": 152,
   "metadata": {
    "scrolled": true
   },
   "outputs": [
    {
     "name": "stdout",
     "output_type": "stream",
     "text": [
      "_________________________________________________________________\n",
      "Layer (type)                 Output Shape              Param #   \n",
      "=================================================================\n",
      "embedding_7 (Embedding)      (None, 100, 50)           25250     \n",
      "_________________________________________________________________\n",
      "global_max_pooling1d_2 (Glob (None, 50)                0         \n",
      "_________________________________________________________________\n",
      "dense_15 (Dense)             (None, 35)                1785      \n",
      "_________________________________________________________________\n",
      "dense_16 (Dense)             (None, 30)                1080      \n",
      "=================================================================\n",
      "Total params: 28,115\n",
      "Trainable params: 28,115\n",
      "Non-trainable params: 0\n",
      "_________________________________________________________________\n",
      "Train on 375 samples, validate on 125 samples\n",
      "Epoch 1/50\n",
      "375/375 [==============================] - 1s 2ms/step - loss: 2.8800 - acc: 0.0000e+00 - val_loss: 2.4048 - val_acc: 0.0000e+00\n",
      "Epoch 2/50\n",
      "375/375 [==============================] - 0s 426us/step - loss: 2.0689 - acc: 0.2880 - val_loss: 1.7668 - val_acc: 0.1920\n",
      "Epoch 3/50\n",
      "375/375 [==============================] - 0s 407us/step - loss: 1.5750 - acc: 0.2080 - val_loss: 1.4197 - val_acc: 0.2000\n",
      "Epoch 4/50\n",
      "375/375 [==============================] - 0s 412us/step - loss: 1.3788 - acc: 0.2000 - val_loss: 1.3568 - val_acc: 0.2000\n",
      "Epoch 5/50\n",
      "375/375 [==============================] - 0s 415us/step - loss: 1.3175 - acc: 0.2427 - val_loss: 1.3044 - val_acc: 0.4160\n",
      "Epoch 6/50\n",
      "375/375 [==============================] - 0s 402us/step - loss: 1.2725 - acc: 0.3947 - val_loss: 1.2142 - val_acc: 0.4160\n",
      "Epoch 7/50\n",
      "375/375 [==============================] - 0s 465us/step - loss: 1.1472 - acc: 0.3947 - val_loss: 1.1022 - val_acc: 0.4160\n",
      "Epoch 8/50\n",
      "375/375 [==============================] - 0s 457us/step - loss: 1.0817 - acc: 0.3947 - val_loss: 1.0157 - val_acc: 0.4160\n",
      "Epoch 9/50\n",
      "375/375 [==============================] - 0s 471us/step - loss: 0.9802 - acc: 0.3947 - val_loss: 0.9174 - val_acc: 0.4160\n",
      "Epoch 10/50\n",
      "375/375 [==============================] - 0s 492us/step - loss: 0.8899 - acc: 0.3947 - val_loss: 0.8356 - val_acc: 0.4160\n",
      "Epoch 11/50\n",
      "375/375 [==============================] - 0s 471us/step - loss: 0.8085 - acc: 0.3947 - val_loss: 0.7510 - val_acc: 0.4160\n",
      "Epoch 12/50\n",
      "375/375 [==============================] - 0s 473us/step - loss: 0.6631 - acc: 0.6080 - val_loss: 0.5589 - val_acc: 0.8960\n",
      "Epoch 13/50\n",
      "375/375 [==============================] - 0s 479us/step - loss: 0.3674 - acc: 0.9413 - val_loss: 0.2760 - val_acc: 0.9840\n",
      "Epoch 14/50\n",
      "375/375 [==============================] - 0s 476us/step - loss: 0.2269 - acc: 0.9760 - val_loss: 0.1922 - val_acc: 0.9760\n",
      "Epoch 15/50\n",
      "375/375 [==============================] - 0s 479us/step - loss: 0.1646 - acc: 0.9787 - val_loss: 0.1476 - val_acc: 0.9760\n",
      "Epoch 16/50\n",
      "375/375 [==============================] - 0s 484us/step - loss: 0.1319 - acc: 0.9813 - val_loss: 0.1268 - val_acc: 0.9760\n",
      "Epoch 17/50\n",
      "375/375 [==============================] - 0s 487us/step - loss: 0.1064 - acc: 0.9867 - val_loss: 0.0980 - val_acc: 0.9920\n",
      "Epoch 18/50\n",
      "375/375 [==============================] - 0s 479us/step - loss: 0.0892 - acc: 0.9893 - val_loss: 0.0869 - val_acc: 0.9840\n",
      "Epoch 19/50\n",
      "375/375 [==============================] - 0s 484us/step - loss: 0.0769 - acc: 0.9893 - val_loss: 0.0731 - val_acc: 0.9920\n",
      "Epoch 20/50\n",
      "375/375 [==============================] - 0s 513us/step - loss: 0.0690 - acc: 0.9867 - val_loss: 0.0616 - val_acc: 0.9920\n",
      "Epoch 21/50\n",
      "375/375 [==============================] - 0s 481us/step - loss: 0.0610 - acc: 0.9893 - val_loss: 0.0566 - val_acc: 0.9920\n",
      "Epoch 22/50\n",
      "375/375 [==============================] - 0s 503us/step - loss: 0.0558 - acc: 0.9867 - val_loss: 0.0484 - val_acc: 0.9920\n",
      "Epoch 23/50\n",
      "375/375 [==============================] - 0s 471us/step - loss: 0.0483 - acc: 0.9920 - val_loss: 0.0528 - val_acc: 0.9920\n",
      "Epoch 24/50\n",
      "375/375 [==============================] - 0s 476us/step - loss: 0.0470 - acc: 0.9893 - val_loss: 0.0518 - val_acc: 0.9920\n",
      "Epoch 25/50\n",
      "375/375 [==============================] - 0s 505us/step - loss: 0.0431 - acc: 0.9893 - val_loss: 0.0398 - val_acc: 1.0000\n",
      "Epoch 26/50\n",
      "375/375 [==============================] - 0s 460us/step - loss: 0.0378 - acc: 0.9893 - val_loss: 0.0465 - val_acc: 0.9920\n",
      "Epoch 27/50\n",
      "375/375 [==============================] - 0s 484us/step - loss: 0.0381 - acc: 0.9920 - val_loss: 0.0403 - val_acc: 0.9920\n",
      "Epoch 28/50\n",
      "375/375 [==============================] - 0s 487us/step - loss: 0.0327 - acc: 0.9893 - val_loss: 0.0361 - val_acc: 0.9920\n",
      "Epoch 29/50\n",
      "375/375 [==============================] - 0s 513us/step - loss: 0.0335 - acc: 0.9920 - val_loss: 0.0325 - val_acc: 0.9920\n",
      "Epoch 30/50\n",
      "375/375 [==============================] - 0s 492us/step - loss: 0.0294 - acc: 0.9920 - val_loss: 0.0371 - val_acc: 0.9920\n",
      "Epoch 31/50\n",
      "375/375 [==============================] - 0s 505us/step - loss: 0.0267 - acc: 0.9947 - val_loss: 0.0313 - val_acc: 0.9920\n",
      "Epoch 32/50\n",
      "375/375 [==============================] - 0s 476us/step - loss: 0.0252 - acc: 0.9920 - val_loss: 0.0286 - val_acc: 0.9920\n",
      "Epoch 33/50\n",
      "375/375 [==============================] - 0s 487us/step - loss: 0.0230 - acc: 0.9973 - val_loss: 0.0300 - val_acc: 0.9920\n",
      "Epoch 34/50\n",
      "375/375 [==============================] - 0s 487us/step - loss: 0.0218 - acc: 0.9973 - val_loss: 0.0271 - val_acc: 0.9920\n",
      "Epoch 35/50\n",
      "375/375 [==============================] - 0s 489us/step - loss: 0.0206 - acc: 0.9973 - val_loss: 0.0243 - val_acc: 0.9920\n",
      "Epoch 36/50\n",
      "375/375 [==============================] - 0s 489us/step - loss: 0.0193 - acc: 0.9920 - val_loss: 0.0234 - val_acc: 0.9920\n",
      "Epoch 37/50\n",
      "375/375 [==============================] - 0s 460us/step - loss: 0.0191 - acc: 0.9973 - val_loss: 0.0231 - val_acc: 0.9920\n",
      "Epoch 38/50\n",
      "375/375 [==============================] - 0s 476us/step - loss: 0.0167 - acc: 0.9973 - val_loss: 0.0267 - val_acc: 0.9920\n",
      "Epoch 39/50\n",
      "375/375 [==============================] - 0s 471us/step - loss: 0.0160 - acc: 0.9973 - val_loss: 0.0236 - val_acc: 0.9920\n",
      "Epoch 40/50\n",
      "375/375 [==============================] - 0s 481us/step - loss: 0.0153 - acc: 0.9973 - val_loss: 0.0220 - val_acc: 0.9920\n",
      "Epoch 41/50\n",
      "375/375 [==============================] - 0s 481us/step - loss: 0.0135 - acc: 0.9973 - val_loss: 0.0221 - val_acc: 0.9920\n",
      "Epoch 42/50\n",
      "375/375 [==============================] - 0s 503us/step - loss: 0.0138 - acc: 0.9973 - val_loss: 0.0289 - val_acc: 0.9920\n",
      "Epoch 43/50\n",
      "375/375 [==============================] - 0s 463us/step - loss: 0.0126 - acc: 0.9973 - val_loss: 0.0194 - val_acc: 0.9920\n",
      "Epoch 44/50\n",
      "375/375 [==============================] - 0s 465us/step - loss: 0.0113 - acc: 1.0000 - val_loss: 0.0208 - val_acc: 0.9920\n",
      "Epoch 45/50\n",
      "375/375 [==============================] - 0s 487us/step - loss: 0.0112 - acc: 0.9973 - val_loss: 0.0194 - val_acc: 0.9920\n",
      "Epoch 46/50\n",
      "375/375 [==============================] - 0s 505us/step - loss: 0.0102 - acc: 1.0000 - val_loss: 0.0193 - val_acc: 0.9920\n",
      "Epoch 47/50\n",
      "375/375 [==============================] - 0s 503us/step - loss: 0.0098 - acc: 1.0000 - val_loss: 0.0220 - val_acc: 0.9920\n",
      "Epoch 48/50\n",
      "375/375 [==============================] - 0s 497us/step - loss: 0.0092 - acc: 1.0000 - val_loss: 0.0212 - val_acc: 0.9920\n",
      "Epoch 49/50\n",
      "375/375 [==============================] - 0s 479us/step - loss: 0.0083 - acc: 1.0000 - val_loss: 0.0177 - val_acc: 0.9920\n",
      "Epoch 50/50\n",
      "375/375 [==============================] - 0s 505us/step - loss: 0.0083 - acc: 1.0000 - val_loss: 0.0182 - val_acc: 0.9920\n"
     ]
    }
   ],
   "source": [
    "model = Sequential()\n",
    "model.add(layers.Embedding(vocab_size, embedding_dim, \n",
    "                           weights=[embedding_matrix], \n",
    "                           input_length=maxlen, \n",
    "                           trainable=True))\n",
    "model.add(layers.GlobalMaxPool1D())\n",
    "model.add(layers.Dense(35, activation='relu'))\n",
    "model.add(layers.Dense(30, activation='sigmoid'))\n",
    "model.compile(optimizer='adam',\n",
    "              loss='categorical_crossentropy',\n",
    "              metrics=['accuracy'])\n",
    "model.summary()\n",
    "\n",
    "history = model.fit(X_train, y_train_hot,\n",
    "                    epochs=50,\n",
    "                    verbose=True,\n",
    "                    validation_data=(X_test, y_test_hot),\n",
    "                    batch_size=10)\n",
    "\n"
   ]
  },
  {
   "cell_type": "code",
   "execution_count": 153,
   "metadata": {},
   "outputs": [
    {
     "name": "stdout",
     "output_type": "stream",
     "text": [
      "Training Accuracy: 1.0000\n",
      "Testing Accuracy:  0.9920\n"
     ]
    },
    {
     "data": {
      "image/png": "[encoded data removed]",
      "text/plain": [
       "<Figure size 864x360 with 2 Axes>"
      ]
     },
     "metadata": {},
     "output_type": "display_data"
    }
   ],
   "source": [
    "loss, accuracy = model.evaluate(X_train, y_train_hot, verbose=False)\n",
    "print(\"Training Accuracy: {:.4f}\".format(accuracy))\n",
    "loss, accuracy = model.evaluate(X_test, y_test_hot, verbose=False)\n",
    "print(\"Testing Accuracy:  {:.4f}\".format(accuracy))\n",
    "plot_history(history)"
   ]
  },
  {
   "cell_type": "code",
   "execution_count": 154,
   "metadata": {},
   "outputs": [
    {
     "data": {
      "text/plain": [
       "<matplotlib.axes._subplots.AxesSubplot at 0x1a5406eef28>"
      ]
     },
     "execution_count": 154,
     "metadata": {},
     "output_type": "execute_result"
    },
    {
     "data": {
      "image/png": "[encoded data removed]",
      "text/plain": [
       "<Figure size 720x504 with 2 Axes>"
      ]
     },
     "metadata": {},
     "output_type": "display_data"
    }
   ],
   "source": [
    "y_pred = model.predict(X_test)\n",
    "y_pred = hotdecode(y_pred)\n",
    "\n",
    "cm=confusion_matrix(y_test, y_pred)\n",
    "\n",
    "index = columns = [i for i in range(len(cm))]\n",
    "df_cm = pd.DataFrame(cm, index = index,\n",
    "                  columns = columns)\n",
    "\n",
    "plt.figure(figsize = (10,7))\n",
    "sn.heatmap(df_cm, annot=True)"
   ]
  },
  {
   "cell_type": "markdown",
   "metadata": {},
   "source": [
    "**Results Summary:**\n",
    "_Provide a brief summary of results obtained like model accuracy & other insights based on EDA & your interpretations_\n",
    "\n",
    "1. UnBalanced dataset may give wrong accuracy parameters as shown in section 1 to secton 6. By analyzing confusion matrix, it was clear that low frequency data is neglected and our algorithm is predicting most majority of class.\n",
    "2. UnBalanced dataset need to Balanced first before doing any kind of analysis. Confusion matrix is a good matric to check the real accuracy of the algorithm\n",
    "3. Linear classifier like Decision perform OK in this dataset but there is lot of scope of improvements\n",
    "4. Neural Network started from pre-trained weight but not re-training is taking a much greater time in achieving similar accuracy as for re-training weights methodology\n",
    "5. Neural Network started from pre-trained weight perform best in this case and obtained an accuracy of 97.18 in testing and confusion matrix is show at 273 line"
   ]
  },
  {
   "cell_type": "code",
   "execution_count": null,
   "metadata": {},
   "outputs": [],
   "source": []
  },
  {
   "cell_type": "code",
   "execution_count": null,
   "metadata": {},
   "outputs": [],
   "source": []
  },
  {
   "cell_type": "code",
   "execution_count": null,
   "metadata": {},
   "outputs": [],
   "source": []
  },
  {
   "cell_type": "code",
   "execution_count": null,
   "metadata": {},
   "outputs": [],
   "source": []
  },
  {
   "cell_type": "code",
   "execution_count": null,
   "metadata": {},
   "outputs": [],
   "source": []
  }
 ],
 "metadata": {
  "kernelspec": {
   "display_name": "Python 3",
   "language": "python",
   "name": "python3"
  },
  "language_info": {
   "codemirror_mode": {
    "name": "ipython",
    "version": 3
   },
   "file_extension": ".py",
   "mimetype": "text/x-python",
   "name": "python",
   "nbconvert_exporter": "python",
   "pygments_lexer": "ipython3",
   "version": "3.6.5"
  }
 },
 "nbformat": 4,
 "nbformat_minor": 2
}
